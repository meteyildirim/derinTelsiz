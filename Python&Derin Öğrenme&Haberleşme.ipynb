{
 "cells": [
  {
   "cell_type": "markdown",
   "metadata": {
    "colab_type": "text",
    "id": "OBI7lIyj26Mc"
   },
   "source": [
    "# Python ile Makine Öğrenimi\n",
    "\n"
   ]
  },
  {
   "cell_type": "markdown",
   "metadata": {
    "colab_type": "text",
    "id": "LK8OfmIeV5G9"
   },
   "source": [
    "\n",
    "<div style=\"width:800px;height:10px;border:10px solid #000;\"></div>\n"
   ]
  },
  {
   "cell_type": "markdown",
   "metadata": {
    "colab_type": "text",
    "id": "ErRj68DXV5G-"
   },
   "source": [
    "## İÇİNDEKİLER\n",
    "\n",
    "[Giriş](#giris)\n",
    "\n",
    "[Bolum 1: Python ](#bolum1)\n",
    "\n",
    "[Python Programlama Örnekleri](#PythonOrnek)\n",
    "\n",
    "[Bolum 2: Numpy ](#bolum2)\n",
    "\n",
    "[Bolum 3: SciPy ](#bolum3)\n",
    "\n",
    "[Bolum 4: Matplotlib ](#bolum4)\n",
    "\n",
    "[Bolum 5: Pandas ](#bolum5)\n",
    "\n",
    "[Bolum 6: Makine Öğrenimi - Machine Learning ](#bolum6)\n",
    "\n",
    "[Bolum 7: Derin Öğrenme - Deep Learning ](#bolum7)\n",
    "\n",
    "\n",
    "\n"
   ]
  },
  {
   "cell_type": "markdown",
   "metadata": {
    "colab_type": "text",
    "id": "euns8V_K26Md"
   },
   "source": [
    "<a id='giris'></a>\n",
    "\n",
    "## GİRİŞ\n",
    "\n",
    "Bu kitabın amacı günümüzün çok önemli disiplinler arası bir çalışması olan Makine Öğrenimi hakkında temel bilgileri sağlarken bu bilgilerin pratik olarak Python programlama dili yapılabilirliğini göstermektir.\n",
    "\n",
    "Bu kitap hem Python heMde Makine öğrenimine yeni başlayanlar için uygun olmakla birlikte Makine Öğreniminde ileri konularada yer vermeyi amaçlamaktadır.\n",
    "\n",
    "Kitabda öncelikle Python diline genel bir tanıtım yapılıp sonrasında ise Python'un Makine Öğrenimi için gerekli modülleri incelenecektir.\n",
    "\n",
    "Python dili ile beraber çok önemli modülleri olan ve makine öğreniminde işimize yarayacak NumPy, SciPy, Matplotlib and Pandas farklı bölümler halinde işlenecektir.\n",
    "\n",
    "**Ayrıca bu kitap interaktif olarak hazırlandığından okurken uygulama yapabileceksiniz.**"
   ]
  },
  {
   "cell_type": "markdown",
   "metadata": {
    "colab_type": "text",
    "id": "Xvptc_gi26Mf"
   },
   "source": [
    "<a id='bolum1'></a>\n",
    "\n",
    "## BÖLÜM 1: Python\n",
    "\n",
    "Bu bölümün amacı genel Python becerisi kazandırmaktır."
   ]
  },
  {
   "cell_type": "markdown",
   "metadata": {
    "colab_type": "text",
    "id": "3QCOq65L26Mg"
   },
   "source": [
    "## Python programlamak için hangi IDE'yi (yazılım geliştirme ortamı) kullanmalıyım."
   ]
  },
  {
   "cell_type": "markdown",
   "metadata": {
    "colab_type": "text",
    "id": "5Z2QeduG26Mh"
   },
   "source": [
    "Eğer hiç bilgisayarıma kurmadan hemen kodlamaya başlamak istiyorum diyorsanız size öğrenebilceğimiz iki önemli adres var. \n",
    "Bunlardan birincisi Google'un sunduğu bir hizmet.Kısaca Colab olarak adlandırılan ve Jupyter Notebook üzerine kurulu bu hizmete  Google Colab olarak aratarak ulaşmanız mümkün veya https://colab.research.google.com/ linkini deneyebilirsiniz. Gmail hesabınızn olması gerekiyor ve çalışma dosyalarınız Google Drive kaydediliyor. Böylelikle bulutta çalışmanın avantajlarını sunuyor. Linki tıkladığınızda aşağıdaki gibi bir ekranla karşılaşmanız mümkün isterseniz bu ekrandaki bilgilere göz atabilir isterseniz alt taraftaki New Pyhthon 3 Notebook tıklayarak hemen kod yazmaya başlayabilrisiniz.\n",
    "\n",
    "\n",
    "![Colab1.png](Colab1.png)\n",
    "\n",
    "\n",
    "\n",
    "Tıkladık ve karşımıza kod yazacağımız ekran kullandığımız internet tarayıcısında açıldı.\n",
    "\n",
    "\n",
    "\n",
    "![Colab2.png](Colab2.png)\n",
    "\n",
    "\n",
    "Yukarıdaki ekrana en basit Python kodunu yazalım ve deneyelim. Ayrıca sağ üst tarafta dosyanın ismi tıklayara istediğimiz ismi verebiliriz. Unutmayın tüm yaptığınız bu işlemler Google Drive içindeki Colab Notebooks kaydedilecektir.\n",
    "\n",
    "\n",
    "![Colab3.png](Colab3.png)\n",
    "\n",
    "Aşağıdaki kodu kopyalayıp Colab' a yapıştırıp satır başındaki ok işaretini tıklayalım.\n",
    "\n",
    "print(\" Merhaba Python \") # Tırnak içerisindeki ifade ekrana yazılır.\n",
    "\n",
    "Ekranda Merhaba Python yazısını görmüş olacaksınız. Jupyter Notebook'ta interaktiv programlama yapacaksınız. Yani kodunuzu satır satır yazıp hemen sonucunu görebilirsiniz. Tek yapmanız gereken farklı kod satırlarını kullanmak. İlerki konularda daha çok örnek yapacağımız için Colab' a şimdilik hoşcakal diyoruz.\n",
    "\n",
    "Program kurmadan kodlama yapacağınız ikinci ve güzel bir seçenekte https://jupyter.org/try adresinde mevcut. Burada Python seçeneğini seçin ve Colab benzeri bir ekranla karşılaştığınızda kodlamaya başlayın. Yukarıdaki kodu buradada deneyin ve aynı sonucu elde edin.\n",
    "\n",
    "Eğer Jupyter Notebook kendi bilgisayarınızda çalıştırma istiyorsanız. Üçrersiz yazılım olan Anaconda programını kurmanızı tavsiye ediyoruz. Bunun için link  https://www.anaconda.com/distribution/\n",
    "\n",
    "Bizde Anacondayı kurmanzı tavsiye ediyoruz. Kendi bilgisayarınızda çalışmanız hız açısından avantajlı olabilir.\n",
    "\n",
    "**Bu kitabı okurken uygulama yapabilirsiniz. Bunun için aşağıda print komutunu olduğu satırı tıklayın ve shift+enter tuşuna basın.**\n"
   ]
  },
  {
   "cell_type": "code",
   "execution_count": 0,
   "metadata": {
    "colab": {},
    "colab_type": "code",
    "id": "_-YHsRGS26Mi"
   },
   "outputs": [],
   "source": [
    "print (\"Merhaba Python\")"
   ]
  },
  {
   "cell_type": "markdown",
   "metadata": {
    "colab_type": "text",
    "id": "mmeYQePh26Mp"
   },
   "source": [
    "Beklenen çıktı:\n",
    "\n",
    "Merhaba Python"
   ]
  },
  {
   "cell_type": "markdown",
   "metadata": {
    "colab_type": "text",
    "id": "0rJ2L_ii26Mq"
   },
   "source": [
    "Şimdi daha çok örneklerle Pythonu anlamaya çalışacağız. Aşağıdaki satırları shift+enter tuşu ile çalıştırın ve sonucu görün. Ayrıca kendinize yeni bir Notebook açarak orada bu komutları yazıp deneyin."
   ]
  },
  {
   "cell_type": "markdown",
   "metadata": {
    "colab_type": "text",
    "id": "cbmKmuE426Mr"
   },
   "source": [
    "## Python'un hesap makinesi olarak kullanılması ve işlem operatörleri\n",
    "\n",
    "Python komut satırını tıpkı bir hesap makinesi gibi kullanabilrsiniz. Aşağıdaki uygulamaları yapalım."
   ]
  },
  {
   "cell_type": "code",
   "execution_count": 0,
   "metadata": {
    "colab": {},
    "colab_type": "code",
    "id": "wg83ePJ526Ms"
   },
   "outputs": [],
   "source": [
    "# Shift + Enter' a basarak beni çalıştır. # işareti kod yazarken yorum yapmamızı sağlar\n",
    "\n",
    "2+2 # 2 + 2 İşleminin sonucu ekranda gösterir.\n"
   ]
  },
  {
   "cell_type": "code",
   "execution_count": 0,
   "metadata": {
    "colab": {},
    "colab_type": "code",
    "id": "M3quAO8y26Mx"
   },
   "outputs": [],
   "source": [
    "# Shift + Enter' a basarak beni çalıştır. İstersen bu satırları kendi dosyana yazarak deneyebilirsin\n",
    "\n",
    "6/2 # 6 / 2 işlemini yapar"
   ]
  },
  {
   "cell_type": "code",
   "execution_count": 0,
   "metadata": {
    "colab": {},
    "colab_type": "code",
    "id": "1PT3P_9i26M1"
   },
   "outputs": [],
   "source": [
    "# Shift + Enter' a basarak beni çalıştır. \n",
    "\n",
    "7%2 # Kalanı bulmak"
   ]
  },
  {
   "cell_type": "code",
   "execution_count": 0,
   "metadata": {
    "colab": {},
    "colab_type": "code",
    "id": "3IGM683D26M7"
   },
   "outputs": [],
   "source": [
    "# Shift + Enter' a basarak beni çalıştır. \n",
    "\n",
    "7**2 # Kuvvetini bulmak"
   ]
  },
  {
   "cell_type": "code",
   "execution_count": 0,
   "metadata": {
    "colab": {},
    "colab_type": "code",
    "id": "DmhryGJ026NA"
   },
   "outputs": [],
   "source": [
    "# Shift + Enter' a basarak beni çalıştır. \n",
    "\n",
    "7**(1/2) # karakökünü bulabilirsiniz."
   ]
  },
  {
   "cell_type": "code",
   "execution_count": 0,
   "metadata": {
    "colab": {},
    "colab_type": "code",
    "id": "kk0i-ji126NF"
   },
   "outputs": [],
   "source": [
    "# Shift + Enter' a basarak beni çalıştır. \n",
    "\n",
    "5*(7-2) # Python parentezi algılayabilir. Sonuç doğrumu"
   ]
  },
  {
   "cell_type": "code",
   "execution_count": 0,
   "metadata": {
    "colab": {},
    "colab_type": "code",
    "id": "7uGcuKsk26NJ"
   },
   "outputs": [],
   "source": [
    "# Python' la komplex sayılarda işlem yapmam mümkün\n",
    "(2+3j)+(5-10j) # i yerine j kullan yeter ki\n",
    "# Sonucta (7-7j) görmelisin"
   ]
  },
  {
   "cell_type": "code",
   "execution_count": 0,
   "metadata": {
    "colab": {},
    "colab_type": "code",
    "id": "1h41ALJ226NN"
   },
   "outputs": [],
   "source": [
    "# // ne işe yarar\n",
    "9//8 # yuvarlama yapıyor değil mi?"
   ]
  },
  {
   "cell_type": "code",
   "execution_count": 0,
   "metadata": {
    "colab": {},
    "colab_type": "code",
    "id": "BB-hTZf926NR"
   },
   "outputs": [],
   "source": [
    "# Python işlem operatörleri\n",
    "a = 5;\n",
    "print (a)\n",
    "a += 6 # bu ifade a = a + 6 ya eşit. Eşitliğin sağ tarafındaki a ya 5 verip a nın yeni değerini hesaplıyor.\n",
    "print(a) # *=, /=, veya =+ , =- işaretşlerinide sen dene\n",
    "# Bunlardan daha çok var yeri geldikçe öğreniriz. Şİmdil canını sıkmayalım."
   ]
  },
  {
   "cell_type": "markdown",
   "metadata": {
    "colab_type": "text",
    "id": "vNEd2vRq26NV"
   },
   "source": [
    "## Python'un değişken tanımlanması ve değişkenlerle işlemlerin yapılması\n",
    "\n",
    "Değişkenleri bir sayıyı veya ifadeyi içinde tutan kutu olarak düşünebilirsin. Bu kutunu bir ismi olmalı ve buna değişken ismi diyeceğiz. Matematikteki x gibi bir şey.\n",
    "Anlamadıysanız merak etmeyin. Örneklerle anlayacaksınız. Hadi başlayalım. \n",
    "\n"
   ]
  },
  {
   "cell_type": "code",
   "execution_count": 0,
   "metadata": {
    "colab": {},
    "colab_type": "code",
    "id": "E0INZzo426NW"
   },
   "outputs": [],
   "source": [
    "\n",
    "# Shift + Enter ile beni çalıştır. Artık bunu hatırlatmayacağım ama sen unutma\n",
    "# İki kutumuz olsun bu kutuların ismi x ve y olsun. x kutusuna 2 sayısını y kutusuna 15 sayısını koyalım.\n",
    "# Sonra başka bir kutu olan z kutusunada bunların toplamını koyalım\n",
    "x = 2 # x kutusuna iki koydum\n",
    "#print(\"x=\",2)\n",
    "y = 15 # y kutusuna 15 koydum\n",
    "#print(\"y=\",15)\n",
    "z = x + y # z kutusuna  x ve y dekilerin toplamını koymasını Pythondan rica ettim.\n",
    "print ('z=x+y =',z)  # z yi ekranda göster\n",
    "# Sen kutulardaki rakamları değiştirerek ve z kutusuna çarpımlarını Pythondan rica ederek kendi örneğini yapabilirsin\n",
    "# Ayrıca  print(\"x=\"2), print(\"y=\",15) satırlarının öündeki #işaretini silerek yeniden çalıştır. Ne görüyorsun.\n",
    "# Bunu görmelisin\n",
    "## x= 2\n",
    "## y= 15\n",
    "## z=x+y = 17\n",
    "\n",
    "# öemli not küçük x ile büyük X farklı iki harf gibidir. Bunu Python'da CASE sentitive denir.\n"
   ]
  },
  {
   "cell_type": "code",
   "execution_count": 0,
   "metadata": {
    "colab": {},
    "colab_type": "code",
    "id": "COI7ehvc26Nb"
   },
   "outputs": [],
   "source": [
    "# Değikenlere sadece sayı atamak zorunda değilsin. Bu örneği çalıştır.\n",
    "ad = 'Mete' # Sayısal anlamı olmaya ifadeler '' içerisinde yazılmalı\n",
    "soyad = 'YILDIRIM' # ad ve soyad x ve y gibi iki değişken. Değişkenlere hemen hemen istediğin şekilde! isim verebilirsin\n",
    "print(ad+soyad) # adı ve soyadı birleşik gösterdi. + işaretini nasıl kullandığımı aklında tut. MeteYILDIRIM yazar\n",
    "print (ad+' '+soyad)# iyi mi araya boşluk ekledim. Mete YILDIRIM yazar\n",
    "tam_ad = ad+soyad\n",
    "print (tam_ad); # olamaz yazıları topladım ve tam_ad kutusuna koydum. Ekrana MeteYILDIRIM yazar\n",
    "\n",
    "# Değşikenlerle ilgili örnekler ileride gelecek."
   ]
  },
  {
   "cell_type": "code",
   "execution_count": 0,
   "metadata": {
    "colab": {},
    "colab_type": "code",
    "id": "p6wClw9S26Nj"
   },
   "outputs": [],
   "source": [
    "# Python'da sayısal anlam taşınmayan ifadeler genel string olarak dalnadırılır.\n",
    "x = 'python öğreniyorum' # Ben bir string 'im'\n",
    "y = 'Telefon numaram : 0800 848 48 48' # bende\n",
    "k = 'NASILSIN'\n",
    "# stringler diziler gibidir. Dizilerde her elamanın bir indeks numarası vardır. Yani dizideki sıra numarası...\n",
    "# x dizisinin 0. elamanı nedir. P mi? Bakalım\n",
    "print (x[0]) # x'in sıfırıncı elemanını göster.\n",
    "print (x[-1]) # Sondan birinci elemanını göster\n",
    "print (x[3:5]) # 3 ve 4. elemanları göster\n",
    "print (x[:]) # Tüm elamanlarını göster\n",
    "# Kendinde başka örnekler deneyebilirsin.\n",
    "\n",
    "# Metotların kullanılması\n",
    "# Python'da işini kolaylaştırcak hazır komutları kullanarak işini kolaylaştırabilirsin.\n",
    "# şimdi x. yazıp TAB tuşuna bas\n",
    "x.capitalize() # x string'nin ilk harfi büyük harf yapıldı. Yani sonuç 'Python öğreniyorum'\n",
    "k.lower() # k değişkenin tüm harfleri küçük harf yapıldı.\n",
    "# istersen  değişğkleri yeni bir değişkende sakla\n",
    "yeni_k = k.lower() # bunu diğer örnekler içinde yapabilirsin.\n",
    "print(yeni_k)# yeni_k 'yı yazdır. \n",
    "yeni_x = x.split()# kelimelere böler\n",
    "print(yeni_x); #Sonuç ['python', 'öğreniyorum']\n",
    "# yeni_x in 0. elamnı nedir sizce\n",
    "print(yeni_x[0])# cevap python olmalı.\n",
    "x.count('o') # x deki 'o' sayısını verir.\n",
    "print(len(x)); # Bazı metotların kullanımı farklı. () içerisine değişkeni yazıyoruz. len(x) x'in karakter sayısını bulur. \n",
    "#Boşlularıda bir karakter sayar.\n",
    "# diğerlerinide sen keşfet. İnternetten yararlanabilirsin.\n"
   ]
  },
  {
   "cell_type": "markdown",
   "metadata": {
    "colab_type": "text",
    "id": "x6ELm-tu26Nn"
   },
   "source": [
    "##Python'a klavyeden bilgi girişi \n"
   ]
  },
  {
   "cell_type": "code",
   "execution_count": 0,
   "metadata": {
    "colab": {},
    "colab_type": "code",
    "id": "oF9jORkz26Np"
   },
   "outputs": [],
   "source": [
    "# Hadi beni çalıştır.\n",
    "print(\"Adın ne insanoğlu:\") # ekrana Adın ne insanoğlu: yazdır\n",
    "x = input() # klavyeden bilgi girilip enter' a basılmasını bekle\n",
    "print(\"Merhaba, \" + x) # ekrana Merhaba 'girilem ifade' yaz\n",
    "print(\"Merhaba, \" + input(\"Adın ne insanoğlu:\")) # Yukarıdaki üç satır kısaca bu şekildede yazılabilir."
   ]
  },
  {
   "cell_type": "code",
   "execution_count": 0,
   "metadata": {
    "colab": {},
    "colab_type": "code",
    "id": "xkgU3TGu26Nu"
   },
   "outputs": [],
   "source": [
    "# İçerisinde günleri tutan bir liste oluşturalım\n",
    "# iki köşeli [] arasına elemanları , ile ayırarak sözel ifadeleri \"\" arasında sayısal ifadeleri ise \" \" kulanmadan \n",
    "# yazarak tanımlarız.\n",
    "örnek_liste = [\"Pazartesi\", \"Salı\", \"Salıertesi\",\"Çarşamba\", \"Perşembe\",\"Friday\",\"Cumartesi\"] \n",
    "yeni_liste  = [10, 12,13,\" Bazı Çift Sayılar\"]\n",
    "print (örnek_liste) # örnek_liste yi ekrana yazdır. Shift +enter bas\n",
    "print (örnek_liste)"
   ]
  },
  {
   "cell_type": "markdown",
   "metadata": {
    "colab_type": "text",
    "id": "Bq3iLmcw26Nt"
   },
   "source": [
    "## Python'a list, tuple, set, dictionary yapıları\n",
    "\n",
    "Python programlama dilinde dört tane çok işimizi yarayan yapı var.Yukarıda bahsettiğimiz dizilerin benzeri yapılar bunlar.\n",
    "\n",
    "Bunlar list, tupes, sets ve dictionary \n",
    "\n"
   ]
  },
  {
   "cell_type": "markdown",
   "metadata": {
    "colab_type": "text",
    "id": "7V-aJMzL3IJd"
   },
   "source": [
    "### Liste (list)  kullanımı "
   ]
  },
  {
   "cell_type": "code",
   "execution_count": 0,
   "metadata": {
    "colab": {},
    "colab_type": "code",
    "id": "_BhvVy_l26Nz"
   },
   "outputs": [],
   "source": [
    "# peki bunların liste olduğunu nasıl bileceğiz.\n",
    "type (yeni_liste) # list yazısını görüyormusun. Evet type komutu ile bir şeyin cinsini öğrenebilriz."
   ]
  },
  {
   "cell_type": "code",
   "execution_count": 0,
   "metadata": {
    "colab": {},
    "colab_type": "code",
    "id": "dtUO1v6926N3"
   },
   "outputs": [],
   "source": [
    "# peki bunların liste olduğunu nasıl bileceğiz.\n",
    "type (yeni_liste) # list yazısını görüyormusun"
   ]
  },
  {
   "cell_type": "code",
   "execution_count": 0,
   "metadata": {
    "colab": {},
    "colab_type": "code",
    "id": "OP5cQvus26N7"
   },
   "outputs": [],
   "source": [
    "\n",
    "print(örnek_liste[1]) # aynı string deki örnekleri yapabilirsin."
   ]
  },
  {
   "cell_type": "code",
   "execution_count": 0,
   "metadata": {
    "colab": {},
    "colab_type": "code",
    "id": "ghSXR2Oz26N-"
   },
   "outputs": [],
   "source": [
    "yeni_liste[3] =\"Monday\" # Değiştirebilirsin. İlk Eleman Monday yapılır\n",
    "print (yeni_liste)"
   ]
  },
  {
   "cell_type": "code",
   "execution_count": 0,
   "metadata": {
    "colab": {},
    "colab_type": "code",
    "id": "-nd-WTqK26OB"
   },
   "outputs": [],
   "source": [
    "# örnek_liste de \"Salıertesi\" sil . Böyle bir gün yok ki\n",
    "örnek_liste.remove(\"Salıertesi\");\n",
    "print (örnek_liste) # göster bakalım çıkmış mı? Not iki defa çalıştırırsan hata verir.\n",
    "#Çünkü ilk çalıştırmada çıkarınca artık çıkarılacak bir şey kalmıyor. \n",
    "#İki defa denemek istiorsan örnek_liste oluşturduğumuz ilk satırı çalıştır yeniden"
   ]
  },
  {
   "cell_type": "code",
   "execution_count": 0,
   "metadata": {
    "colab": {},
    "colab_type": "code",
    "id": "Q5kTzNAL26OG"
   },
   "outputs": [],
   "source": [
    "# günlerden pazar eksi galiba, eklemeye ne dersin.\n",
    "örnek_liste.append(\"Pazar\");"
   ]
  },
  {
   "cell_type": "code",
   "execution_count": 0,
   "metadata": {
    "colab": {},
    "colab_type": "code",
    "id": "3xyO2VOJ26OI"
   },
   "outputs": [],
   "source": [
    "print(örnek_liste); # Pazar eklenmiş."
   ]
  },
  {
   "cell_type": "code",
   "execution_count": 0,
   "metadata": {
    "colab": {},
    "colab_type": "code",
    "id": "bnCGI6IA26OL"
   },
   "outputs": [],
   "source": [
    "len(örnek_liste) # listenin uzunluğunu verir"
   ]
  },
  {
   "cell_type": "code",
   "execution_count": 0,
   "metadata": {
    "colab": {},
    "colab_type": "code",
    "id": "9IONg21126OO"
   },
   "outputs": [],
   "source": [
    "print(örnek_liste[len(örnek_liste)-1]) # sence bu ne yapar."
   ]
  },
  {
   "cell_type": "code",
   "execution_count": 0,
   "metadata": {
    "colab": {},
    "colab_type": "code",
    "id": "zzOozwS626OR"
   },
   "outputs": [],
   "source": [
    "örnek_liste.pop() # son elemanı çıkar ve çıkardığın elemanı ekrana yaz. eğer pop(3) yazarsan 3. elamnı siler"
   ]
  },
  {
   "cell_type": "code",
   "execution_count": 0,
   "metadata": {
    "colab": {},
    "colab_type": "code",
    "id": "3xhridd926OU"
   },
   "outputs": [],
   "source": [
    "print(yeni_liste[0]+yeni_liste[1]) # yeni_liste 'nin ilk ve ikinci elemanlarını topla ve yaz."
   ]
  },
  {
   "cell_type": "code",
   "execution_count": 0,
   "metadata": {
    "colab": {},
    "colab_type": "code",
    "id": "Jb8z2K4p26OX"
   },
   "outputs": [],
   "source": [
    "del yeni_liste # listeyi tamamen siler"
   ]
  },
  {
   "cell_type": "code",
   "execution_count": 0,
   "metadata": {
    "colab": {},
    "colab_type": "code",
    "id": "4i6FkEs426OZ"
   },
   "outputs": [],
   "source": [
    "print(yeni_liste) # artık bunu yazarsan hata mesajı alırsın"
   ]
  },
  {
   "cell_type": "code",
   "execution_count": 0,
   "metadata": {
    "colab": {},
    "colab_type": "code",
    "id": "yFvLVdc_26Od"
   },
   "outputs": [],
   "source": [
    "örnek_liste.clear() # listenin elamanlarının hepsini siler"
   ]
  },
  {
   "cell_type": "code",
   "execution_count": 0,
   "metadata": {
    "colab": {},
    "colab_type": "code",
    "id": "wX45gG6S26Of"
   },
   "outputs": [],
   "source": [
    "print(örnek_liste) # boş liste görürsün\n",
    "\n",
    "# list'lerde yapılcak çok işlem olabilir. Şimdilik bu kadarı yeterli. Yeri geldikçe öğreniriz."
   ]
  },
  {
   "cell_type": "markdown",
   "metadata": {
    "colab_type": "text",
    "id": "YkspUQqK26Oi"
   },
   "source": [
    "append () Listenin sonuna bir öğe ekler,\n",
    "\n",
    "clear () Listedeki tüm elemanları kaldırır,\n",
    "\n",
    "copy () Listenin bir kopyasını oluşturur,\n",
    "\n",
    "count () Öğe sayısını sayar,\n",
    "\n",
    "extend () Bir listenin öğelerini geçerli listenin sonuna ekleyin,\n",
    "\n",
    "index () Belirtilen değere sahip ilk öğenin dizinini döndürür,\n",
    "\n",
    "insert () Belirtilen konuma bir öğe ekler,\n",
    "\n",
    "pop () Öğeyi belirtilen konumdan kaldırır,\n",
    "\n",
    "remove () İstenen Öğeyi çıkarır,\n",
    "\n",
    "reverse () Listenin sırasını ters çevirir,\n",
    "\n",
    "sort () Listeyi sıralar**"
   ]
  },
  {
   "cell_type": "markdown",
   "metadata": {
    "colab_type": "text",
    "id": "wuIEXoE926Oj"
   },
   "source": [
    "### Tupes  kullanımı "
   ]
  },
  {
   "cell_type": "code",
   "execution_count": 0,
   "metadata": {
    "colab": {},
    "colab_type": "code",
    "id": "vo-NaXNr26Ok"
   },
   "outputs": [],
   "source": [
    "# İçerisinde günleri tutan bir tupes oluşturalım\n",
    "# iki köşeli () arasına elemanları , ile ayırarak sözel ifadeleri \"\" arasında sayısal ifadeleri ise \" \" kulanmadan \n",
    "# yazarak tanımlarız.\n",
    "\n",
    "tuples_listesi1 = (\"Pazartesi\", \"Salı\", \"Salıertesi\",\"Çarşamba\", \"Perşembe\",\"Friday\",\"Cumartesi\") \n",
    "tuples_listesi2  = (10, 12,13,\" Bazı Çift Sayılar\")\n",
    "print (tuples_listesi1) # tupes_listesi1 yi ekrana yazdır. Shift +enter bas\n",
    "print (tuples_listesi2) # tupes_listesi2 yi ekrana yazdır. Shift +enter bas"
   ]
  },
  {
   "cell_type": "code",
   "execution_count": 0,
   "metadata": {
    "colab": {},
    "colab_type": "code",
    "id": "TDUYPUKN26Oo"
   },
   "outputs": [],
   "source": [
    "print (tuples_listesi1[0])# ilk elamanı yazdır\n",
    "\n"
   ]
  },
  {
   "cell_type": "code",
   "execution_count": 0,
   "metadata": {
    "colab": {},
    "colab_type": "code",
    "id": "OUbnMap926Ot"
   },
   "outputs": [],
   "source": [
    "tuples_listesi1[8] =\" Yeni Gün\" # Yeni eleman eklenemez. Hata verir"
   ]
  },
  {
   "cell_type": "code",
   "execution_count": 0,
   "metadata": {
    "colab": {},
    "colab_type": "code",
    "id": "7IESxyz726Ox"
   },
   "outputs": [],
   "source": [
    "tuples_listesi1[0] = \"Monday\" # Değişiklik yok. Geri kalan özelikleri list ile aynı. Onun için Hata mesajı alacaksın üzülme\n",
    "# Değişiklik istemediğin durumlarda tupes kullan.\n",
    "# Örneğin Ay adları, Haftanın günleri"
   ]
  },
  {
   "cell_type": "code",
   "execution_count": 0,
   "metadata": {
    "colab": {},
    "colab_type": "code",
    "id": "idCFx7S_26O2"
   },
   "outputs": [],
   "source": [
    "type(tupes_listesi1)# tipine bakalım"
   ]
  },
  {
   "cell_type": "markdown",
   "metadata": {
    "colab_type": "text",
    "id": "eW3JW-Kz26O6"
   },
   "source": [
    "### Sets  kullanımı "
   ]
  },
  {
   "cell_type": "code",
   "execution_count": 0,
   "metadata": {
    "colab": {},
    "colab_type": "code",
    "id": "XPiCjQzw26O6"
   },
   "outputs": [],
   "source": [
    "# İçerisinde günleri tutan bir Set oluşturalım\n",
    "# iki köşeli {} arasına elemanları , ile ayırarak sözel ifadeleri \"\" arasında sayısal ifadeleri ise \" \" kulanmadan \n",
    "# yazarak tanımlarız.\n",
    "# Elemanlarını değiştiremezsin ama yeni elaman ekleyebilirsin\n",
    "# Yeni eleman ekleyebilirz. add() metodunu kullan. update() ile daha fazla eleman ekleyebilirsin.\n",
    "tuples_listesi1 = {\"Pazartesi\", \"Salı\", \"Salıertesi\",\"Çarşamba\", \"Perşembe\",\"Friday\",\"Cumartesi\"} \n",
    "tuples_listesi2  = {10, 12,13,\" Bazı Çift Sayılar\"}\n",
    "print (tuples_listesi1) # tupes_listesi1 yi ekrana yazdır. Shift +enter bas\n",
    "print (tuples_listesi2) # tupes_listesi2 yi ekrana yazdır. Shift +enter bas"
   ]
  },
  {
   "cell_type": "code",
   "execution_count": 0,
   "metadata": {
    "colab": {},
    "colab_type": "code",
    "id": "vzvXF5uL26PA"
   },
   "outputs": [],
   "source": [
    "type(tuples_listesi1) # tipine bakalım"
   ]
  },
  {
   "cell_type": "code",
   "execution_count": 0,
   "metadata": {
    "colab": {},
    "colab_type": "code",
    "id": "oqUJ1Nq926PC"
   },
   "outputs": [],
   "source": [
    "tuples_listesi1.add(\"mete\")# yeni eleman ekler."
   ]
  },
  {
   "cell_type": "code",
   "execution_count": 0,
   "metadata": {
    "colab": {},
    "colab_type": "code",
    "id": "qSl4b6T126PG"
   },
   "outputs": [],
   "source": [
    "print (tuples_listesi1)"
   ]
  },
  {
   "cell_type": "markdown",
   "metadata": {
    "colab_type": "text",
    "id": "_8TZIVCk26PJ"
   },
   "source": [
    "### Sözlük (Dictionary)  kullanımı \n"
   ]
  },
  {
   "cell_type": "code",
   "execution_count": 0,
   "metadata": {
    "colab": {},
    "colab_type": "code",
    "id": "Swyq-08B26PK"
   },
   "outputs": [],
   "source": [
    "# aşağıdaki şekilde tanımlanır.\n",
    "# ingilizce kelimlerin hepsini ve karşılığını girdiğimizi düşünün\n",
    "# ben 3 kelime gireceğim\n",
    "\n",
    "sözlük ={\n",
    "  \"School\": \"Okul\",\n",
    "  \"Class\": \"Sınıf\",\n",
    "  \"Student\": \"Öğrenci\",\n",
    "    \"Teacher\":\"Öğretmen\",\n",
    "    \"No\":9\n",
    "}\n",
    "\n",
    "print(sözlük)"
   ]
  },
  {
   "cell_type": "code",
   "execution_count": 0,
   "metadata": {
    "colab": {},
    "colab_type": "code",
    "id": "iuvQRNm626PM"
   },
   "outputs": [],
   "source": [
    "print(sözlük[\"School\"])# Burada School anahtar kelime oluyor. Python anahtar kelimeyi alıp size karşılığını veriyor.\n"
   ]
  },
  {
   "cell_type": "code",
   "execution_count": 0,
   "metadata": {
    "colab": {},
    "colab_type": "code",
    "id": "xlzhYTIH26PS"
   },
   "outputs": [],
   "source": [
    "sözlük[\"School\"] = \" Ders görülen yer, okul\" # Değişiklik yap\n",
    "print(sözlük[\"School\"]) # Değişikliği göster"
   ]
  },
  {
   "cell_type": "code",
   "execution_count": 0,
   "metadata": {
    "colab": {},
    "colab_type": "code",
    "id": "mEcpBKD426PU"
   },
   "outputs": [],
   "source": [
    "sözlük[\"University\"] = \" Üniversite\" # Yeni kelime ekle\n",
    "print(sözlük[\"University\"]) # Değişikliği göster"
   ]
  },
  {
   "cell_type": "code",
   "execution_count": 0,
   "metadata": {
    "colab": {},
    "colab_type": "code",
    "id": "1scccTdl26PY"
   },
   "outputs": [],
   "source": [
    "print(sözlük)"
   ]
  },
  {
   "cell_type": "code",
   "execution_count": 0,
   "metadata": {
    "colab": {},
    "colab_type": "code",
    "id": "2mTHVUQ226Pa"
   },
   "outputs": [],
   "source": [
    "# Ufak bir program yazalım\n",
    "# Klavyeden girilen Kelime Sözlüğe eklensin ve sözlükteki tüm kelimer ekrana yazılsın\n",
    "anahtar = input (\"Sözlüğe Eklemek İstediğin Kelime: \")\n",
    "tanım = input (\"Kelimenin anlamı: \")\n",
    "sözlük[anahtar] = tanım\n",
    "print (sözlük)"
   ]
  },
  {
   "cell_type": "code",
   "execution_count": 0,
   "metadata": {
    "colab": {},
    "colab_type": "code",
    "id": "qxt5Rcvq26Pc"
   },
   "outputs": [],
   "source": [
    "# Ufak bir program daha yazalım\n",
    "# Klavyeden girilen Kelime Sözlükte bulunsun ve ekrana yazılsın\n",
    "anahtar = input (\"Aranan kelime: \")\n",
    "print (sözlük[anahtar]) # Eğer yoksa hata verir. Büyük küçük harfe dikkat et."
   ]
  },
  {
   "cell_type": "code",
   "execution_count": 0,
   "metadata": {
    "colab": {},
    "colab_type": "code",
    "id": "BQqpFW6fV5Jy"
   },
   "outputs": [],
   "source": [
    "# Aşağıdaki iki satırı kullanarak Jupyter'e resim yükleyebilirsiniz\n",
    "#from IPython.display import Image\n",
    "#Image(filename=\"Colab1.png\",width=600,height=80)\n",
    "# Alttaki iki satırı kullanarak resim yükle yapabilrisiniz , cell türünü code yapmalısınız.\n",
    "#%%html\n",
    "#<img src=\"Cat03.jpg\",width=100,height=50>\n",
    "# veye bunuda kullanabilrisiniz.\n",
    "#![title](Cat03.jpg) markdownd\n",
    "# \n"
   ]
  },
  {
   "cell_type": "code",
   "execution_count": 0,
   "metadata": {
    "colab": {},
    "colab_type": "code",
    "id": "nHAuRfSrV5J0"
   },
   "outputs": [],
   "source": [
    "# pwd Bu komutu kullanarak bu dosyanın neredew kayıtlı olduğunu öğrenebilirsiniz."
   ]
  },
  {
   "cell_type": "markdown",
   "metadata": {
    "colab_type": "text",
    "id": "3IyiKaCzV5J2"
   },
   "source": [
    "<a id='PythonOrnek'></a> "
   ]
  },
  {
   "cell_type": "markdown",
   "metadata": {
    "colab_type": "text",
    "id": "Ptq_SD1-V5J2"
   },
   "source": [
    "<a id='bolum2'></a>"
   ]
  },
  {
   "cell_type": "markdown",
   "metadata": {
    "colab_type": "text",
    "id": "RwlbYL2zV5J3"
   },
   "source": [
    "\n",
    "\n",
    "\n",
    "## BÖLÜM 2: Numpy"
   ]
  },
  {
   "cell_type": "markdown",
   "metadata": {
    "colab_type": "text",
    "id": "D6yOQn1cV5J3"
   },
   "source": [
    "Python' da matematiksel işlemleri yapmayı sağlayan çok kullanışlı bir modüldür."
   ]
  },
  {
   "cell_type": "code",
   "execution_count": 0,
   "metadata": {
    "colab": {},
    "colab_type": "code",
    "id": "b8ReR22dV5J4"
   },
   "outputs": [],
   "source": [
    "import numpy as np # numpy kullanmadan önce programınızın başında bu şekilde tanımlamalısınız. \n",
    "# np sadece hernhangi bir kısayol ismi. Shift+Enter bas. Eğer hata varsa numpy kurmalısın."
   ]
  },
  {
   "cell_type": "markdown",
   "metadata": {
    "colab_type": "text",
    "id": "d53kWh-RV5J8"
   },
   "source": [
    "### Dizileri oluşturma ve kullanma"
   ]
  },
  {
   "cell_type": "code",
   "execution_count": 0,
   "metadata": {
    "colab": {},
    "colab_type": "code",
    "id": "ydFGXu-iV5J-"
   },
   "outputs": [],
   "source": [
    "# [1 2 3 4] gibi bir yapıya dizi diyoruz. Bu dizinin 0. elamanı 1 1. elamnaı 2 dir.\n",
    "# sondan birinci elamnı ise -4 olur.\n",
    "# Bu yapıyı oluşturmak için \n",
    "dizi1 = np.array([1,2,3,4]);# Diziyi oluştur ve dizi1 de sakla\n",
    "print(dizi1) # dizi1 in içeriği göster\n",
    "type(dizi1) # tipini göster\n"
   ]
  },
  {
   "cell_type": "code",
   "execution_count": 0,
   "metadata": {
    "colab": {},
    "colab_type": "code",
    "id": "QmMn7W87V5J_"
   },
   "outputs": [],
   "source": [
    "dizi1 # dizi1!i göster"
   ]
  },
  {
   "cell_type": "code",
   "execution_count": 0,
   "metadata": {
    "colab": {},
    "colab_type": "code",
    "id": "mXq0G8hzV5KB"
   },
   "outputs": [],
   "source": [
    "dizi1[0] # dizi1 de ki ilk elamnı gösterir"
   ]
  },
  {
   "cell_type": "code",
   "execution_count": 0,
   "metadata": {
    "colab": {},
    "colab_type": "code",
    "id": "FN8drbe7V5KD"
   },
   "outputs": [],
   "source": [
    "dizi1[-1] # dizi1 de ki son elamnı gösterir"
   ]
  },
  {
   "cell_type": "code",
   "execution_count": 0,
   "metadata": {
    "colab": {},
    "colab_type": "code",
    "id": "XHXvo3xhV5KE"
   },
   "outputs": [],
   "source": [
    "dizi1[1:3] # dizi1 de ki 1. ve 2 elamanı gösterir"
   ]
  },
  {
   "cell_type": "code",
   "execution_count": 0,
   "metadata": {
    "colab": {},
    "colab_type": "code",
    "id": "EU6TkD42V5KG"
   },
   "outputs": [],
   "source": [
    "dizi1[0]= 100 # dizi1 de ki ilk elamnı 100 yap ve \n",
    "dizi1[0] # yeni degerini göster"
   ]
  },
  {
   "cell_type": "code",
   "execution_count": 0,
   "metadata": {
    "colab": {},
    "colab_type": "code",
    "id": "d86SC6_pV5KJ"
   },
   "outputs": [],
   "source": [
    "dizi2 = np.array([\"mete\",\"Hasan\"]) # Elamanları sözel olan bir dizi oluştur\n",
    "dizi2 # dizi2 yi göster"
   ]
  },
  {
   "cell_type": "code",
   "execution_count": 0,
   "metadata": {
    "colab": {},
    "colab_type": "code",
    "id": "yBua_2LzV5KL"
   },
   "outputs": [],
   "source": [
    "# Farklı cinsler beraber bir dizide olur mu?\n",
    "dizi3  = np.array([1,\"Hasan\"]) # Elamanları sözel ve sayısal olan bir dizi oluştur\n",
    "dizi3 # dizi2 yi göster\n",
    "# sonuç array(['1', 'Hasan'], dtype='<U11'). Bunun anlamı hepsini string - sözel ifade olarak kabullendi"
   ]
  },
  {
   "cell_type": "code",
   "execution_count": 0,
   "metadata": {
    "colab": {},
    "colab_type": "code",
    "id": "WcWo84yEV5KN"
   },
   "outputs": [],
   "source": [
    "# dizileri toplamak\n",
    "dizi4 = np.array([6,7,8,9])\n",
    "print(dizi1+dizi4)"
   ]
  },
  {
   "cell_type": "code",
   "execution_count": 0,
   "metadata": {
    "colab": {},
    "colab_type": "code",
    "id": "AjVvm_8KV5KQ"
   },
   "outputs": [],
   "source": [
    "# iki boyutlu diziler oluşturma\n",
    "# sütün ve kolanlardan oluşacak bir matris oluşturmak gibi\n",
    "dizi_iki_boyutlu = np.array ([[1,2,5],[3,4,7],[-5,-3,-9]])\n",
    "print(dizi_iki_boyutlu) # çıktısı aşağıdaki gibi olmalı\n",
    "#[[ 1  2  5]\n",
    "# [ 3  4  7]\n",
    "#[-5 -3 -9]]"
   ]
  },
  {
   "cell_type": "code",
   "execution_count": 0,
   "metadata": {
    "colab": {},
    "colab_type": "code",
    "id": "9wyPsDlmV5KS"
   },
   "outputs": [],
   "source": [
    "# istersen bunun elamanlarına sıra numarası ile (index ) ulaşabilrisin\n",
    "dizi_iki_boyutlu[0,0] # sira numaralarının sıfırdan başladığını unutma"
   ]
  },
  {
   "cell_type": "code",
   "execution_count": 0,
   "metadata": {
    "colab": {},
    "colab_type": "code",
    "id": "JdZx07GdV5KT"
   },
   "outputs": [],
   "source": [
    "dizi_iki_boyutlu[:,0] # Bu şekilde 0. sütündaki tüm satırları gösterir"
   ]
  },
  {
   "cell_type": "code",
   "execution_count": 0,
   "metadata": {
    "colab": {},
    "colab_type": "code",
    "id": "MFhwWNk6V5KW"
   },
   "outputs": [],
   "source": [
    " k = dizi_iki_boyutlu[0,:] # Bu şekilde 0. satırdaki tüm sütünları k ya atar\n",
    "k # k yı göster, Artık k isminde bir dizin var."
   ]
  },
  {
   "cell_type": "code",
   "execution_count": 0,
   "metadata": {
    "colab": {},
    "colab_type": "code",
    "id": "bvnW15CBV5KX"
   },
   "outputs": [],
   "source": [
    "k[0] # tabi bu tek boyutlu ve ilk elamanı k[0] da saklıdır."
   ]
  },
  {
   "cell_type": "code",
   "execution_count": 0,
   "metadata": {
    "colab": {},
    "colab_type": "code",
    "id": "I-sOBIEBV5KZ"
   },
   "outputs": [],
   "source": [
    "dizi_iki_boyutlu[1:,2:] # 1.satırdan sona kadar elamanlar ile 2. sütündan sona kadar olan elamanları keşsim kümesini gösterir"
   ]
  },
  {
   "cell_type": "code",
   "execution_count": 0,
   "metadata": {
    "colab": {},
    "colab_type": "code",
    "id": "psZedbvWV5Kc"
   },
   "outputs": [],
   "source": [
    "dizi_iki_boyutlu.shape # dizinin ölçülerini merak ediyorsan .shape komutunu kullan"
   ]
  },
  {
   "cell_type": "code",
   "execution_count": 0,
   "metadata": {
    "colab": {},
    "colab_type": "code",
    "id": "n_znHkkQV5Kd"
   },
   "outputs": [],
   "source": [
    "k.shape # k' nın boyutu tek olduğundan (3, ) şeklinde gösteriliyor"
   ]
  },
  {
   "cell_type": "code",
   "execution_count": 0,
   "metadata": {
    "colab": {},
    "colab_type": "code",
    "id": "ew0ljTqMV5Kg"
   },
   "outputs": [],
   "source": [
    "k.dtype # k nın tipine bakabilirsin. dtype('int32') tam saılardan oluşturduğunu gösterir"
   ]
  },
  {
   "cell_type": "code",
   "execution_count": 0,
   "metadata": {
    "colab": {},
    "colab_type": "code",
    "id": "qWHI5Qt9V5Kj"
   },
   "outputs": [],
   "source": [
    "len(dizi_iki_boyutlu) # sadece sütün sayısını bilmek istersen len komutunu kullan"
   ]
  },
  {
   "cell_type": "code",
   "execution_count": 0,
   "metadata": {
    "colab": {},
    "colab_type": "code",
    "id": "FpwTy48iV5Kl"
   },
   "outputs": [],
   "source": [
    "2 in dizi_iki_boyutlu # 2 dizi_iki_boyutlu sizisinde var mı sorgulaması yap\n",
    "# True olduğunu False olmadığını gösterir"
   ]
  },
  {
   "cell_type": "code",
   "execution_count": 0,
   "metadata": {
    "colab": {},
    "colab_type": "code",
    "id": "q8yO3FkhV5Km"
   },
   "outputs": [],
   "source": [
    "dizi_oto = np.array (range(10),float)#  1-9 kadar olan sayılardan dizi yapa\n"
   ]
  },
  {
   "cell_type": "code",
   "execution_count": 0,
   "metadata": {
    "colab": {},
    "colab_type": "code",
    "id": "kMZjIoqlV5Ko"
   },
   "outputs": [],
   "source": [
    "print(dizi_oto)# dizi_oto içeriğini göster"
   ]
  },
  {
   "cell_type": "code",
   "execution_count": 0,
   "metadata": {
    "colab": {},
    "colab_type": "code",
    "id": "aOeZwQ-sV5Kq",
    "scrolled": true
   },
   "outputs": [],
   "source": [
    "dizi_oto.shape # boyutlarını göster\n",
    "# (10,) şeklinde gösterir\n"
   ]
  },
  {
   "cell_type": "code",
   "execution_count": 0,
   "metadata": {
    "colab": {},
    "colab_type": "code",
    "id": "qXYEFLszV5Ks"
   },
   "outputs": [],
   "source": [
    "dizi_oto2 = dizi_oto.reshape(10,1) # Boyutları değiştirir ve dizi_oto2 da sakla\n",
    "dizi_oto2.shape # yeni boyutlarını göster.\n",
    "# (10, 1) ile  (10,) farklı anlamlar taşır\n"
   ]
  },
  {
   "cell_type": "code",
   "execution_count": 0,
   "metadata": {
    "colab": {},
    "colab_type": "code",
    "id": "cFO04HxWV5Kw"
   },
   "outputs": [],
   "source": [
    "dizi_oto3 = dizi_oto.reshape(5,2); # 5*2=10 yine 10 elaman var. Toplam elaman değişmez.\n",
    "dizi_oto3.shape\n",
    "# (5, 2) \n"
   ]
  },
  {
   "cell_type": "code",
   "execution_count": 0,
   "metadata": {
    "colab": {},
    "colab_type": "code",
    "id": "8TAi9yEWV5Kx"
   },
   "outputs": [],
   "source": [
    "dizi_oto3 # yeni diziyi göster"
   ]
  },
  {
   "cell_type": "code",
   "execution_count": 0,
   "metadata": {
    "colab": {},
    "colab_type": "code",
    "id": "x5q_jEARV5K0"
   },
   "outputs": [],
   "source": [
    "dizi_oto4 = dizi_oto3 # dizi_oto3 dizi_oto4' e ata"
   ]
  },
  {
   "cell_type": "code",
   "execution_count": 0,
   "metadata": {
    "colab": {},
    "colab_type": "code",
    "id": "ypipTInQV5K2"
   },
   "outputs": [],
   "source": [
    "dizi_oto4 # dizi_oto4 ve dizi_oto3 içeriği aynı"
   ]
  },
  {
   "cell_type": "code",
   "execution_count": 0,
   "metadata": {
    "colab": {},
    "colab_type": "code",
    "id": "xf0IX-IBV5K4"
   },
   "outputs": [],
   "source": [
    "# dizi_oto3 de değişiklik yapınca dizi_oto4 de aynı değişiklik olur mu?\n",
    "# deneyelim \n",
    "dizi_oto3[1,1]=100\n",
    "dizi_oto3 # dizi_oto3'e bak"
   ]
  },
  {
   "cell_type": "code",
   "execution_count": 0,
   "metadata": {
    "colab": {},
    "colab_type": "code",
    "id": "YIsUgLRiV5K6"
   },
   "outputs": [],
   "source": [
    "dizi_oto4 # Evet oluyormuş"
   ]
  },
  {
   "cell_type": "code",
   "execution_count": 0,
   "metadata": {
    "colab": {},
    "colab_type": "code",
    "id": "z-xT5o5TV5K7"
   },
   "outputs": [],
   "source": [
    "dizi_oto5 = dizi_oto3.copy()# dizi_oto3 içeriğini dizi_oto5 e kopyala"
   ]
  },
  {
   "cell_type": "code",
   "execution_count": 0,
   "metadata": {
    "colab": {},
    "colab_type": "code",
    "id": "8CR6u1qNV5K9"
   },
   "outputs": [],
   "source": [
    "dizi_oto3[0,0]= 1000"
   ]
  },
  {
   "cell_type": "code",
   "execution_count": 0,
   "metadata": {
    "colab": {},
    "colab_type": "code",
    "id": "Pj9wLwd6V5K-"
   },
   "outputs": [],
   "source": [
    "dizi_oto3 # Değişikliği göster"
   ]
  },
  {
   "cell_type": "code",
   "execution_count": 0,
   "metadata": {
    "colab": {},
    "colab_type": "code",
    "id": "vUnkpvEcV5LB"
   },
   "outputs": [],
   "source": [
    "dizi_oto5 # Buda değişti mi? Hayır değişmemeli. O zaman .copy() kulanmalısın."
   ]
  },
  {
   "cell_type": "code",
   "execution_count": 0,
   "metadata": {
    "colab": {},
    "colab_type": "code",
    "id": "ou7dDwTZV5LC"
   },
   "outputs": [],
   "source": [
    "dizi_oto5.transpose() # transpozunu alabilirsin"
   ]
  },
  {
   "cell_type": "code",
   "execution_count": 0,
   "metadata": {
    "colab": {},
    "colab_type": "code",
    "id": "MhQh5JDvV5LE"
   },
   "outputs": [],
   "source": [
    "dizi_oto5.fill(0) # tüm elamanları sıfırla doldurur."
   ]
  },
  {
   "cell_type": "code",
   "execution_count": 0,
   "metadata": {
    "colab": {},
    "colab_type": "code",
    "id": "Npq8WTkNV5LF"
   },
   "outputs": [],
   "source": [
    "dizi_oto5"
   ]
  },
  {
   "cell_type": "code",
   "execution_count": 0,
   "metadata": {
    "colab": {},
    "colab_type": "code",
    "id": "1o7LiqxoV5LI"
   },
   "outputs": [],
   "source": [
    "# Dizileri birleştirmek\n",
    "a = np.array([[1, 2], [3, 4]], float)\n",
    "b = np.array([[5, 6], [7,8]], float)\n",
    "#alt alta birleştirmek istersen\n",
    "np.concatenate((a,b))\n"
   ]
  },
  {
   "cell_type": "code",
   "execution_count": 0,
   "metadata": {
    "colab": {},
    "colab_type": "code",
    "id": "BVUvhuKNV5LL"
   },
   "outputs": [],
   "source": [
    "#yan yana birleştirmek istersen\n",
    "np.concatenate((a,b), axis=1)"
   ]
  },
  {
   "cell_type": "code",
   "execution_count": 0,
   "metadata": {
    "colab": {},
    "colab_type": "code",
    "id": "icWK0DF7V5LO"
   },
   "outputs": [],
   "source": [
    "# Dizi oluştrumak için arange komutunu kullanabilrisin\n",
    "y = np.arange(10, dtype=float)\n",
    "y"
   ]
  },
  {
   "cell_type": "code",
   "execution_count": 0,
   "metadata": {
    "colab": {},
    "colab_type": "code",
    "id": "GsySumGcV5LP"
   },
   "outputs": [],
   "source": [
    "# (3,5)n boyutlarında birim matris oluştur.\n",
    "y_ones = np.ones((3,5)) \n",
    "y_ones"
   ]
  },
  {
   "cell_type": "code",
   "execution_count": 0,
   "metadata": {
    "colab": {},
    "colab_type": "code",
    "id": "nMzx8KkDV5LR"
   },
   "outputs": [],
   "source": [
    "# (3,5)n boyutlarında sıfır matrisi oluştur.\n",
    "y_zeros = np.zeros((3,5)) \n",
    "y_zeros"
   ]
  },
  {
   "cell_type": "code",
   "execution_count": 0,
   "metadata": {
    "colab": {},
    "colab_type": "code",
    "id": "s_jdd00TV5LS"
   },
   "outputs": [],
   "source": [
    "\n",
    "# identity matris oluşturdu\n",
    "y_identy = np.identity(5) \n",
    "y_identy "
   ]
  },
  {
   "cell_type": "code",
   "execution_count": 0,
   "metadata": {
    "colab": {},
    "colab_type": "code",
    "id": "hBKTJIzpV5LT"
   },
   "outputs": [],
   "source": [
    "# Köşegeninde 10 olan matris oluşturur.\n",
    "y_identy = np.identity(5) *10\n",
    "y_identy "
   ]
  },
  {
   "cell_type": "code",
   "execution_count": 0,
   "metadata": {
    "colab": {},
    "colab_type": "code",
    "id": "8saWmAF6V5LU"
   },
   "outputs": [],
   "source": [
    "import numpy as np\n",
    "np.eye(4, k=2, dtype=float) # 3.köşeğgeni kulanır"
   ]
  },
  {
   "cell_type": "markdown",
   "metadata": {
    "colab_type": "text",
    "id": "yl-biuEkV5LV"
   },
   "source": [
    "### Numpy' da matematiksel işlemler"
   ]
  },
  {
   "cell_type": "code",
   "execution_count": 0,
   "metadata": {
    "colab": {},
    "colab_type": "code",
    "id": "hr7g5_4AV5LW"
   },
   "outputs": [],
   "source": [
    "# iki array toplanabilir, çıkarılabir, elamandan elamana çarpım yapılabilr\n",
    "# Matris çarpımı yapılabilir\n",
    "a = np.array([10,12,13], float)\n",
    "b = np.array([2,1,3], float)\n",
    "print(a+b)\n",
    "print(a-b)\n",
    "print(a*b) #Dikkat normal çarpma değil\n",
    "print(a/b) # Elamanları birbirine böler\n",
    "print(a**b) # Elamanların kuvvetini alır\n",
    "print(a%b) # Elamanların arası moduler bölme yapar\n",
    "print(a@b.T) # Matris çarpımında iç boyutlar eşit olmalı. \n",
    "# Örneğin (1,3) ile (3,1) çarplabilr. "
   ]
  },
  {
   "cell_type": "code",
   "execution_count": 0,
   "metadata": {
    "colab": {},
    "colab_type": "code",
    "id": "3YUkXbI7V5LX"
   },
   "outputs": [],
   "source": [
    "# Broadcasting Özelliği\n",
    "# 2 3\n",
    "# 4 5 \n",
    "# ile \n",
    "# 1\n",
    "# 2\n",
    "#toplamayı denediğimizde ikinci matris birincinin her kolonuna eklenir\n",
    "z = np.array([[2,3],[4,5]])\n",
    "p = np.array([[1],[2]])\n",
    "print(\"z matrisi\\n\"+str(z))\n",
    "print(\"p matrisi\\n\"+str(p))\n",
    "print(\"z+p toplam matrisi\\n\"+str(z+p))\n",
    "# yukarıda görüldüğü gibi str komutunu kullanarak print içerisnde bir sayısal ifadeyi sözel ifadeye ekleyebilrisin"
   ]
  },
  {
   "cell_type": "code",
   "execution_count": 0,
   "metadata": {
    "colab": {},
    "colab_type": "code",
    "id": "71GTg8oEV5LZ"
   },
   "outputs": [],
   "source": [
    "# bir matrisin karakökünü alabilirsin"
   ]
  },
  {
   "cell_type": "code",
   "execution_count": 0,
   "metadata": {
    "colab": {},
    "colab_type": "code",
    "id": "0u0O2arPV5Lb"
   },
   "outputs": [],
   "source": [
    "z2 =np.sqrt(z) # yine her bir elamnın karakökü alında\n",
    "z2"
   ]
  },
  {
   "cell_type": "code",
   "execution_count": 0,
   "metadata": {
    "colab": {},
    "colab_type": "code",
    "id": "IlgdHEH3V5Ld"
   },
   "outputs": [],
   "source": [
    "print(np.floor(z2)) # aşağıya yuvarla\n",
    "print(np.ceil(z2))# yukarıya yuvarla\n",
    "print(np.rint(z2))# en yakın tam sayıya yuvarla"
   ]
  },
  {
   "cell_type": "code",
   "execution_count": 0,
   "metadata": {
    "colab": {},
    "colab_type": "code",
    "id": "1a2yO5rpV5Le"
   },
   "outputs": [],
   "source": [
    "np.pi+np.e # bazı sabitler bu şekilde kullanabilrsin"
   ]
  },
  {
   "cell_type": "code",
   "execution_count": 0,
   "metadata": {
    "colab": {
     "base_uri": "https://localhost:8080/",
     "height": 201
    },
    "colab_type": "code",
    "executionInfo": {
     "elapsed": 756,
     "status": "error",
     "timestamp": 1558677074735,
     "user": {
      "displayName": "Mete YILDIRIM",
      "photoUrl": "https://lh5.googleusercontent.com/-oFOFY3nQ5Nk/AAAAAAAAAAI/AAAAAAAABJQ/yRRY4WkVZX4/s64/photo.jpg",
      "userId": "16029077067357103762"
     },
     "user_tz": -180
    },
    "id": "hlTlqdfvV5Lf",
    "outputId": "cf26f541-7dea-4b06-e74c-5e7043634ee5"
   },
   "outputs": [
    {
     "ename": "ValueError",
     "evalue": "ignored",
     "output_type": "error",
     "traceback": [
      "\u001b[0;31m---------------------------------------------------------------------------\u001b[0m",
      "\u001b[0;31mValueError\u001b[0m                                Traceback (most recent call last)",
      "\u001b[0;32m<ipython-input-4-90fcc0e13778>\u001b[0m in \u001b[0;36m<module>\u001b[0;34m()\u001b[0m\n\u001b[1;32m      2\u001b[0m \u001b[0ma\u001b[0m \u001b[0;34m=\u001b[0m \u001b[0mnp\u001b[0m\u001b[0;34m.\u001b[0m\u001b[0marray\u001b[0m\u001b[0;34m(\u001b[0m\u001b[0;34m[\u001b[0m\u001b[0;36m10\u001b[0m\u001b[0;34m,\u001b[0m\u001b[0;36m12\u001b[0m\u001b[0;34m,\u001b[0m\u001b[0;36m13\u001b[0m\u001b[0;34m,\u001b[0m \u001b[0;36m19\u001b[0m\u001b[0;34m]\u001b[0m\u001b[0;34m,\u001b[0m \u001b[0mfloat\u001b[0m\u001b[0;34m)\u001b[0m\u001b[0;34m\u001b[0m\u001b[0;34m\u001b[0m\u001b[0m\n\u001b[1;32m      3\u001b[0m \u001b[0mb\u001b[0m \u001b[0;34m=\u001b[0m \u001b[0mnp\u001b[0m\u001b[0;34m.\u001b[0m\u001b[0marray\u001b[0m\u001b[0;34m(\u001b[0m\u001b[0;34m[\u001b[0m\u001b[0;36m15\u001b[0m\u001b[0;34m,\u001b[0m\u001b[0;36m12\u001b[0m\u001b[0;34m,\u001b[0m\u001b[0;36m16\u001b[0m\u001b[0;34m]\u001b[0m\u001b[0;34m,\u001b[0m \u001b[0mfloat\u001b[0m\u001b[0;34m)\u001b[0m\u001b[0;34m\u001b[0m\u001b[0;34m\u001b[0m\u001b[0m\n\u001b[0;32m----> 4\u001b[0;31m \u001b[0mprint\u001b[0m\u001b[0;34m(\u001b[0m\u001b[0ma\u001b[0m\u001b[0;34m+\u001b[0m\u001b[0mb\u001b[0m\u001b[0;34m)\u001b[0m\u001b[0;34m\u001b[0m\u001b[0;34m\u001b[0m\u001b[0m\n\u001b[0m",
      "\u001b[0;31mValueError\u001b[0m: operands could not be broadcast together with shapes (4,) (3,) "
     ]
    }
   ],
   "source": [
    "# Boyutlar farklı ie iki array toplanamaz,  hata mesajı oluşur\n",
    "import numpy as np\n",
    "a = np.array([10,12,13,19], float)\n",
    "b = np.array([15,12,16], float)\n",
    "print(a+b)"
   ]
  },
  {
   "cell_type": "code",
   "execution_count": 0,
   "metadata": {
    "colab": {
     "base_uri": "https://localhost:8080/",
     "height": 87
    },
    "colab_type": "code",
    "executionInfo": {
     "elapsed": 797,
     "status": "ok",
     "timestamp": 1558677101719,
     "user": {
      "displayName": "Mete YILDIRIM",
      "photoUrl": "https://lh5.googleusercontent.com/-oFOFY3nQ5Nk/AAAAAAAAAAI/AAAAAAAABJQ/yRRY4WkVZX4/s64/photo.jpg",
      "userId": "16029077067357103762"
     },
     "user_tz": -180
    },
    "id": "DIvyZTAeV5Lh",
    "outputId": "cba3e83f-8e77-4e67-d112-f2f8a052a203"
   },
   "outputs": [
    {
     "name": "stdout",
     "output_type": "stream",
     "text": [
      "10.0\n",
      "12.0\n",
      "13.0\n",
      "19.0\n"
     ]
    }
   ],
   "source": [
    "a\n",
    "for i in a: # : unutma yoksa hata mesajı verir\n",
    "    print (i) # i her seferenin ilk elamandan başlayarak dizideki bir değeri alıyor"
   ]
  },
  {
   "cell_type": "code",
   "execution_count": 0,
   "metadata": {
    "colab": {},
    "colab_type": "code",
    "id": "jr938lqGV5Li"
   },
   "outputs": [],
   "source": [
    "a = np.array([10,12,13, 19], float)\n",
    "b = np.array([15,12,13], float)\n",
    "print(a)\n",
    "print(b)"
   ]
  },
  {
   "cell_type": "code",
   "execution_count": 0,
   "metadata": {
    "colab": {},
    "colab_type": "code",
    "id": "lJmXUMGtV5Lk"
   },
   "outputs": [],
   "source": [
    "for i in b:\n",
    "    for k in a:\n",
    "        if k==i:\n",
    "            print(str(k)+\" hem a da hem b de var\")\n",
    "    "
   ]
  },
  {
   "cell_type": "code",
   "execution_count": 0,
   "metadata": {
    "colab": {},
    "colab_type": "code",
    "id": "h4rezUJ5V5Ll"
   },
   "outputs": [],
   "source": [
    "# Dizi üerinde yapılabilecek işlemler\n",
    "# Dizinin elemanları topla\n",
    "print(a)\n",
    "x=np.sum(a)\n",
    "print(x)\n",
    "# Dizinin elemanları çarp\n",
    "print(np.prod(a))\n",
    "# Dizinin elemanlarının ortalamasını hesapla\n",
    "print(np.mean(a))\n",
    "# Dizinin elemanlarının varyansını hesapla\n",
    "print(np.var(a))\n",
    "# Dizinin elemanlarının standart sapmasını hesapla\n",
    "print(np.std(a))\n",
    "# Dizinin elemanlarının en küçüğünü bul\n",
    "print(np.min(a))\n",
    "# Dizinin elemanlarının en büyüğünü bul\n",
    "print(np.max(a))\n",
    "# Dizinin elemanlarının en küçüğünü sırasını bul\n",
    "print(np.argmin(a))\n",
    "# Dizinin elemanlarının en büyüğünün sırasını bul\n",
    "print(np.argmax(a))"
   ]
  },
  {
   "cell_type": "code",
   "execution_count": 0,
   "metadata": {
    "colab": {},
    "colab_type": "code",
    "id": "eCDEjOziV5Lo"
   },
   "outputs": [],
   "source": [
    "# Rastgele bir dizi oluştur\n",
    "rsg_1 = np.random.randint(1,100,5)\n",
    "print(rsg_1)"
   ]
  },
  {
   "cell_type": "markdown",
   "metadata": {
    "colab_type": "text",
    "id": "-AI2Mf5PV5Lp"
   },
   "source": [
    "### Karşılaştırma işlemleri"
   ]
  },
  {
   "cell_type": "code",
   "execution_count": 0,
   "metadata": {
    "colab": {},
    "colab_type": "code",
    "id": "Q41owmTDV5Lq"
   },
   "outputs": [],
   "source": [
    "a = np.array([10,12,13, 19], float)\n",
    "b = np.array([15,12,13,0], float)\n",
    "print(a)\n",
    "print(b)"
   ]
  },
  {
   "cell_type": "code",
   "execution_count": 0,
   "metadata": {
    "colab": {},
    "colab_type": "code",
    "id": "C4rUiiO6V5Lr"
   },
   "outputs": [],
   "source": [
    "a<b # Elemanları karşılaştırır"
   ]
  },
  {
   "cell_type": "code",
   "execution_count": 0,
   "metadata": {
    "colab": {},
    "colab_type": "code",
    "id": "UNr3o7ETV5Ls"
   },
   "outputs": [],
   "source": [
    "a>10 # elemanları 10 ile karşılaştırılır"
   ]
  },
  {
   "cell_type": "code",
   "execution_count": 0,
   "metadata": {
    "colab": {},
    "colab_type": "code",
    "id": "hzm-jK0rV5Lv"
   },
   "outputs": [],
   "source": [
    "np.logical_and(a>10,a<15)# ve karşılaştırması\n"
   ]
  },
  {
   "cell_type": "code",
   "execution_count": 0,
   "metadata": {
    "colab": {},
    "colab_type": "code",
    "id": "t5YqMaGGV5Lx"
   },
   "outputs": [],
   "source": [
    "np.logical_or(a>10,a<15)# orkarşılaştırması"
   ]
  },
  {
   "cell_type": "code",
   "execution_count": 0,
   "metadata": {
    "colab": {},
    "colab_type": "code",
    "id": "901QGDXJV5Ly"
   },
   "outputs": [],
   "source": [
    "# \n",
    "a[a<15]"
   ]
  },
  {
   "cell_type": "code",
   "execution_count": 0,
   "metadata": {
    "colab": {},
    "colab_type": "code",
    "id": "380BMv64V5L0"
   },
   "outputs": [],
   "source": [
    "np.poly([-1, 1, 1, 10])"
   ]
  },
  {
   "cell_type": "code",
   "execution_count": 0,
   "metadata": {
    "colab": {},
    "colab_type": "code",
    "id": "KrH_yt9qV5L2"
   },
   "outputs": [],
   "source": []
  },
  {
   "cell_type": "markdown",
   "metadata": {
    "colab_type": "text",
    "id": "P60amNYBV5L6"
   },
   "source": [
    "<a id='bolum3'></a>"
   ]
  },
  {
   "cell_type": "markdown",
   "metadata": {
    "colab_type": "text",
    "id": "bT-LJJCiV5L6"
   },
   "source": [
    "## BÖLÜM 3: SciPy\n",
    "\n",
    "Numpy daha gelişmiş özelliklerin sunar.\n",
    "SciPy imports all the functions from the NumPy namespace, and in\n",
    "addition provides:\n",
    "\n",
    "Available subpackages\n",
    "---------------------\n",
    "odr --- Orthogonal Distance Regression \n",
    "\n",
    "misc --- Various utilities that don't have another home.\n",
    "\n",
    "sparse.linalg.eigen.arpack --- Eigenvalue solver using iterative methods. \n",
    "\n",
    "fftpack --- Discrete Fourier Transform algorithms \n",
    "\n",
    "io --- Data input and output\n",
    "\n",
    "sparse.linalg.eigen.lobpcg --- Locally Optimal Block Preconditioned\n",
    "\n",
    "Conjugate Gradient Method (LOBPCG) \n",
    "\n",
    "special --- Airy Functions\n",
    "\n",
    "lib.blas --- Wrappers to BLAS library \n",
    "\n",
    "sparse.linalg.eigen --- Sparse Eigenvalue Solvers \n",
    "\n",
    "stats --- Statistical Functions \n",
    "\n",
    "lib --- Python wrappers to external libraries\n",
    "\n",
    "\n",
    "lib.lapack --- Wrappers to LAPACK library \n",
    "\n",
    "maxentropy --- Routines for fitting maximum entropy\n",
    "models \n",
    "\n",
    "integrate --- Integration routines \n",
    "\n",
    "ndimage --- n-dimensional image package\n",
    "\n",
    "linalg --- Linear algebra routines \n",
    "\n",
    "spatial --- Spatial data structures and algorithms\n",
    "\n",
    "\n",
    "interpolate --- Interpolation Tools \n",
    "\n",
    "sparse.linalg --- Sparse Linear Algebra\n",
    "\n",
    "sparse.linalg.dsolve.umfpack --- :Interface to the UMFPACK library: \n",
    "\n",
    "sparse.linalg.dsolve --- Linear Solvers \n",
    "\n",
    "optimize --- Optimization Tools\n",
    "\n",
    "cluster --- Vector Quantization / Kmeans\n",
    "\n",
    "signal --- Signal Processing Tools \n",
    "\n",
    "sparse --- Sparse Matrices\n",
    "\n"
   ]
  },
  {
   "cell_type": "code",
   "execution_count": 0,
   "metadata": {
    "colab": {},
    "colab_type": "code",
    "id": "8RMQ65IsV5L6"
   },
   "outputs": [],
   "source": [
    "import scipy as sc # kullanmadan önce bir defa dahil etmelisiniz"
   ]
  },
  {
   "cell_type": "code",
   "execution_count": 0,
   "metadata": {
    "colab": {},
    "colab_type": "code",
    "id": "kMgVYHgyV5L8"
   },
   "outputs": [],
   "source": [
    "from scipy import linalg as lin"
   ]
  },
  {
   "cell_type": "code",
   "execution_count": 0,
   "metadata": {
    "colab": {},
    "colab_type": "code",
    "id": "JEV6E9OpV5L9"
   },
   "outputs": [],
   "source": [
    "from scipy import signal as sg \n",
    "# Paket içerisinde çokca modülün bulunduğu yapıdır\n",
    "# paketler ayrı olarak kullanım için çagrılmalı\n",
    "# sinyal işleminde kullanılcak komutları sunar"
   ]
  },
  {
   "cell_type": "code",
   "execution_count": 0,
   "metadata": {
    "colab": {},
    "colab_type": "code",
    "id": "i9bVL6fAV5L-"
   },
   "outputs": [],
   "source": []
  },
  {
   "cell_type": "code",
   "execution_count": 0,
   "metadata": {
    "colab": {},
    "colab_type": "code",
    "id": "2KkcLWduV5L_"
   },
   "outputs": [],
   "source": []
  },
  {
   "cell_type": "code",
   "execution_count": 0,
   "metadata": {
    "colab": {},
    "colab_type": "code",
    "id": "AWJxQbTCV5MA"
   },
   "outputs": [],
   "source": []
  },
  {
   "cell_type": "code",
   "execution_count": 0,
   "metadata": {
    "colab": {},
    "colab_type": "code",
    "id": "9Zx5RNksV5MB"
   },
   "outputs": [],
   "source": []
  },
  {
   "cell_type": "code",
   "execution_count": 0,
   "metadata": {
    "colab": {},
    "colab_type": "code",
    "id": "f50AnE_9V5MD"
   },
   "outputs": [],
   "source": []
  },
  {
   "cell_type": "code",
   "execution_count": 0,
   "metadata": {
    "colab": {},
    "colab_type": "code",
    "id": "-V8eo8WuV5ME"
   },
   "outputs": [],
   "source": []
  },
  {
   "cell_type": "markdown",
   "metadata": {
    "colab_type": "text",
    "id": "ZDiA0nP7V5MG"
   },
   "source": [
    "<a id='bolum4'></a>"
   ]
  },
  {
   "cell_type": "markdown",
   "metadata": {
    "colab_type": "text",
    "id": "T3ota_89V5MH"
   },
   "source": [
    "## BÖLÜM 4 : Matplotlib\n",
    "\n",
    "Matplotlib modülü şekil oluşturmak için kullanılan modüldür. Burada verilecek örneklerin yanı sıra çok kapsamlı örnekler için https://matplotlib.org/tutorials/index.html adresine bakılabilr.\n",
    "\n"
   ]
  },
  {
   "cell_type": "markdown",
   "metadata": {
    "colab": {
     "base_uri": "https://localhost:8080/",
     "height": 39
    },
    "colab_type": "code",
    "executionInfo": {
     "elapsed": 1083,
     "status": "ok",
     "timestamp": 1558678307946,
     "user": {
      "displayName": "Mete YILDIRIM",
      "photoUrl": "https://lh5.googleusercontent.com/-oFOFY3nQ5Nk/AAAAAAAAAAI/AAAAAAAABJQ/yRRY4WkVZX4/s64/photo.jpg",
      "userId": "16029077067357103762"
     },
     "user_tz": -180
    },
    "id": "9LKUckEJdgkv",
    "outputId": "803295da-17c6-4701-affe-ecdc0d082353"
   },
   "source": [
    "# Bu satırlar çokta önemli değil. \n",
    "%%html\n",
    "<marquee style='width: 80%; color: blue;'><b>Örneklerle Matplotlib</b></marquee>"
   ]
  },
  {
   "cell_type": "code",
   "execution_count": 4,
   "metadata": {
    "colab": {},
    "colab_type": "code",
    "id": "lfGfiqukV5MJ"
   },
   "outputs": [],
   "source": [
    "%matplotlib inline \n",
    "# Jupyterde şekili göstermek için kullan.\n",
    "# Eğer şeklinizin Jupyter Notebookta aşağıdaki gibi görünmesini istiyorsanız %matplotlib inline kullanmalısınız\n"
   ]
  },
  {
   "cell_type": "code",
   "execution_count": 5,
   "metadata": {
    "colab": {},
    "colab_type": "code",
    "id": "0PuOL8wxV5MM"
   },
   "outputs": [
    {
     "data": {
      "image/png": "[encoded data removed]",
      "text/plain": [
       "<Figure size 432x288 with 1 Axes>"
      ]
     },
     "metadata": {},
     "output_type": "display_data"
    }
   ],
   "source": [
    "# Örnek 1:\n",
    "# Basit grafikler oluşturma\n",
    "# [1, 2, 3, 4]  y ekseni değerleri, x ekseni değerleri verilmezse otomatik atanır.\n",
    "import matplotlib.pyplot as plt\n",
    "plt.plot([1, 2, 3, 4])\n",
    "plt.ylabel('some numbers')\n",
    "plt.show()"
   ]
  },
  {
   "cell_type": "code",
   "execution_count": 6,
   "metadata": {},
   "outputs": [
    {
     "data": {
      "image/png": "[encoded data removed]",
      "text/plain": [
       "<Figure size 432x288 with 1 Axes>"
      ]
     },
     "metadata": {},
     "output_type": "display_data"
    }
   ],
   "source": [
    "# Örnek 2:\n",
    "# Basit grafikler oluşturma\n",
    "# [1, 2, 3, 4]  y ekseni değerleri, x ekseni değerleri ise [5,10,15,20]\n",
    "import matplotlib.pyplot as plt\n",
    "plt.plot([5,10,15,20],[1, 2, 3, 4])\n",
    "plt.ylabel('some numbers')\n",
    "plt.show()"
   ]
  },
  {
   "cell_type": "code",
   "execution_count": 9,
   "metadata": {},
   "outputs": [
    {
     "data": {
      "image/png": "[encoded data removed]",
      "text/plain": [
       "<Figure size 432x288 with 1 Axes>"
      ]
     },
     "metadata": {},
     "output_type": "display_data"
    }
   ],
   "source": [
    "# Örnek 3:\n",
    "# ikinci bir eğri ekleyelim oda [4,3,2,1] olsun\n",
    "# [1, 2, 3, 4]  y ekseni değerleri, x ekseni değerleri ise [5,10,15,20]\n",
    "import matplotlib.pyplot as plt\n",
    "plt.plot([5,10,15,20],[1, 2, 3, 4],[5,10,15,20],[4,3,2,1])\n",
    "plt.ylabel('y değerleri')\n",
    "plt.show();"
   ]
  },
  {
   "cell_type": "code",
   "execution_count": 20,
   "metadata": {},
   "outputs": [
    {
     "data": {
      "image/png": "[encoded data removed]",
      "text/plain": [
       "<Figure size 432x288 with 1 Axes>"
      ]
     },
     "metadata": {},
     "output_type": "display_data"
    }
   ],
   "source": [
    "# Örnek 4: Renkleri değiştir, legend ekle, üst üstte eğri çiz, axis belirle\n",
    "# ikinci bir eğri ekleyelim oda [4,3,2,1] olsun\n",
    "# [1, 2, 3, 4]  y ekseni değerleri, x ekseni değerleri ise [5,10,15,20]\n",
    "import matplotlib.pyplot as plt\n",
    "plt.plot([5,10,15,20],[1, 2, 3, 4],'g-',[5,10,15,20],[4,3,2,1],'r-') # g yeşil için ve r kırmızı için\n",
    "# plt.plot([5,10,15,20],[1, 2, 3, 4],'ob') # bu satırın başındaki #işareti kaldırıp denemelisin\n",
    "plt.ylabel('y değerleri')\n",
    "plt.xlabel('y değerleri')\n",
    "plt.legend(['eğri 1','eğri 2']) # eğri isimleri ekler.\n",
    "plt.axis([-5, 30, -5, 20])\n",
    "plt.show();"
   ]
  },
  {
   "cell_type": "code",
   "execution_count": null,
   "metadata": {},
   "outputs": [],
   "source": [
    "# Örnek 4: Renkleri değiştir, legend ekle, üst üstte eğri çiz\n",
    "import matplotlib.pyplot as plt\n",
    "plt.plot([1, 2, 3, 4], [1, 4, 9, 16], 'ro')\n",
    "plt.axis([0, 6, 0, 20])\n",
    "plt.show()\n"
   ]
  },
  {
   "cell_type": "code",
   "execution_count": 0,
   "metadata": {
    "colab": {
     "base_uri": "https://localhost:8080/",
     "height": 269
    },
    "colab_type": "code",
    "executionInfo": {
     "elapsed": 711,
     "status": "ok",
     "timestamp": 1558678712723,
     "user": {
      "displayName": "Mete YILDIRIM",
      "photoUrl": "https://lh5.googleusercontent.com/-oFOFY3nQ5Nk/AAAAAAAAAAI/AAAAAAAABJQ/yRRY4WkVZX4/s64/photo.jpg",
      "userId": "16029077067357103762"
     },
     "user_tz": -180
    },
    "id": "xKpKdvijV5MQ",
    "outputId": "c8f965cd-b2e0-48bc-85d5-746928f83f48"
   },
   "outputs": [
    {
     "data": {
      "image/png": "[encoded data removed]",
      "text/plain": [
       "<Figure size 432x288 with 1 Axes>"
      ]
     },
     "metadata": {
      "tags": []
     },
     "output_type": "display_data"
    }
   ],
   "source": [
    "# Diğer örnekler\n",
    "\n",
    "import matplotlib.pyplot as plt\n",
    "plt.plot([-1, -4.5, 16, 23], \"or\") # o çemberi r harfide kırmızıyı kulanmayı seçer. Diğer seçenekler tabloda verilmiştir.\n",
    "plt.show()\n"
   ]
  },
  {
   "cell_type": "code",
   "execution_count": 0,
   "metadata": {
    "colab": {
     "base_uri": "https://localhost:8080/",
     "height": 283
    },
    "colab_type": "code",
    "executionInfo": {
     "elapsed": 1163,
     "status": "ok",
     "timestamp": 1558678846350,
     "user": {
      "displayName": "Mete YILDIRIM",
      "photoUrl": "https://lh5.googleusercontent.com/-oFOFY3nQ5Nk/AAAAAAAAAAI/AAAAAAAABJQ/yRRY4WkVZX4/s64/photo.jpg",
      "userId": "16029077067357103762"
     },
     "user_tz": -180
    },
    "id": "InZCBR98V5MS",
    "outputId": "402e32bb-70c3-49af-eefe-b6f727bd84bd"
   },
   "outputs": [
    {
     "data": {
      "image/png": "[encoded data removed]",
      "text/plain": [
       "<Figure size 432x288 with 1 Axes>"
      ]
     },
     "metadata": {
      "tags": []
     },
     "output_type": "display_data"
    }
   ],
   "source": [
    "# İterseniz x ve y eksenleri için vektörler oluşturup kullanabilirsiniz.\n",
    "\n",
    "gun = [1,2,3,4,5,6,7]\n",
    "BirinciSirketKari = [100, 500, 900, 300,10,400,600]\n",
    "IkinciSirketKari = [300, 400, 200, 100,150,250,350]\n",
    "plt.plot(gun, BirinciSirketKari,\"g\",  # yeşil çizgiyi çizer\n",
    "         gun, BirinciSirketKari,\"og\", # yeşil noktaları koyar\n",
    "         gun, IkinciSirketKari,\"r\" , # kırmızı çizgiyi çizer\n",
    "        gun, IkinciSirketKari,\"oy\"  )# sarı noktaları koyar\n",
    "plt.xlabel('Gün') # eksenlere isim vermek için kullan\n",
    "plt.ylabel('Şirket Karı')\n",
    "plt.show()\n"
   ]
  },
  {
   "cell_type": "code",
   "execution_count": 0,
   "metadata": {
    "colab": {
     "base_uri": "https://localhost:8080/",
     "height": 283
    },
    "colab_type": "code",
    "executionInfo": {
     "elapsed": 26575,
     "status": "ok",
     "timestamp": 1558678981528,
     "user": {
      "displayName": "Mete YILDIRIM",
      "photoUrl": "https://lh5.googleusercontent.com/-oFOFY3nQ5Nk/AAAAAAAAAAI/AAAAAAAABJQ/yRRY4WkVZX4/s64/photo.jpg",
      "userId": "16029077067357103762"
     },
     "user_tz": -180
    },
    "id": "a87_lp9eV5MX",
    "outputId": "0c164359-ada4-4c6f-e63b-9b8008a0c578"
   },
   "outputs": [
    {
     "data": {
      "image/png": "[encoded data removed]",
      "text/plain": [
       "<Figure size 432x288 with 1 Axes>"
      ]
     },
     "metadata": {
      "tags": []
     },
     "output_type": "display_data"
    }
   ],
   "source": [
    "# İsterseniz eksenlerin aralığını değiştirebilirsiniz\n",
    "\n",
    "gun = [1,2,3,4,5,6,7]\n",
    "BirinciSirketKari = [100, 500, 900, 300,10,400,600]\n",
    "IkinciSirketKari = [300, 400, 200, 100,150,250,350]\n",
    "plt.plot(gun, BirinciSirketKari,\"g\",  # yeşil çizgiyi çizer\n",
    "         gun, BirinciSirketKari,\"og\", # yeşil noktaları koyar\n",
    "         gun, IkinciSirketKari,\"r\" , # kırmızı çizgiyi çizer\n",
    "        gun, IkinciSirketKari,\"oy\"  )# sarı noktaları koyar\n",
    "plt.xlabel('Gün') # eksenlere isim vermek için kullan\n",
    "plt.ylabel('Şirket Karı')\n",
    "xmin, xmax, ymin, ymax = 0, 10, 0, 1500 # Bu değerlerli değiştirerek sonucu gör. xmin x eksenin en küçük değeri\n",
    "plt.axis([xmin, xmax, ymin, ymax]) # xmax x eksenin en büyük değerini gösterir. ymin ve ymax da benzeri şekildedir.\n",
    "plt.show() # plt. yazdıktan sonra klavyeden tab tuşuna basark plt ile kullanabileçeğiniz komutları görün"
   ]
  },
  {
   "cell_type": "code",
   "execution_count": 22,
   "metadata": {
    "colab": {},
    "colab_type": "code",
    "id": "bunEefG-V5MY"
   },
   "outputs": [
    {
     "data": {
      "text/plain": [
       "[0, 6, -2, 2]"
      ]
     },
     "execution_count": 22,
     "metadata": {},
     "output_type": "execute_result"
    },
    {
     "data": {
      "image/png": "[encoded data removed]",
      "text/plain": [
       "<Figure size 432x288 with 1 Axes>"
      ]
     },
     "metadata": {},
     "output_type": "display_data"
    }
   ],
   "source": [
    "import numpy as np\n",
    "# np.linspace(0,2*np.pi,100) komutu grafik çizerken çok kullanışlı olabilir.\n",
    "# Yukarıdaki satır ile 0 ile 2*np.pi arasında 100 tane eşit mesafeli değr oluşturur.\n",
    "x = np.linspace(0,2*np.pi,5) # array([0.        , 1.57079633, 3.14159265, 4.71238898, 6.28318531]) bu diziyi oluşturur.\n",
    "x = np.linspace(0,2*np.pi,30) # 5 i 100 yaptım.\n",
    "y = np.sin(x); # sin değerlerini hesapladım\n",
    "y2 = np.cos(x); # cos değerlerini hesapladım\n",
    "y3 = np.tan(x)\n",
    "plt.plot(x,y,\"r\",\n",
    "         x,y,\"or\",\n",
    "        x,y2,\"b\",\n",
    "        x,y3,\"g\") # şimdi sende eksen isimlerini ver.\n",
    "# plt.plot(X, F1, color=\"blue\", linewidth=2.5, linestyle=\"-\") istersen bunları dene\n",
    "\n",
    "xmin, xmax, ymin, ymax = 0, 6, -2, 2;\n",
    "plt.axis(([xmin, xmax, ymin, ymax]))\n",
    "\n"
   ]
  },
  {
   "cell_type": "code",
   "execution_count": 36,
   "metadata": {},
   "outputs": [
    {
     "data": {
      "image/png": "[encoded data removed]",
      "text/plain": [
       "<Figure size 432x288 with 1 Axes>"
      ]
     },
     "metadata": {},
     "output_type": "display_data"
    }
   ],
   "source": [
    "# \n",
    "# Dictonary oluştur.\n",
    "data = {'a': np.arange(50),\n",
    "        'c': np.random.randint(0, 50, 50),\n",
    "        'd': np.random.randn(50)}\n",
    "\n",
    "data['b'] = data['a'] + 10 * np.random.randn(50)\n",
    "data['d'] = np.abs(data['d']) * 100\n",
    "plt.scatter('a', 'b', c='c', s='d', data=data)\n",
    "\n",
    "plt.xlabel('entry a')\n",
    "plt.ylabel('entry b')\n",
    "plt.show()"
   ]
  },
  {
   "cell_type": "code",
   "execution_count": 25,
   "metadata": {},
   "outputs": [
    {
     "data": {
      "image/png": "[encoded data removed]",
      "text/plain": [
       "<Figure size 648x216 with 3 Axes>"
      ]
     },
     "metadata": {},
     "output_type": "display_data"
    }
   ],
   "source": [
    "# Grupsal çizim oluşturma\n",
    "names = ['group_a', 'group_b', 'group_c']\n",
    "values = [1, 10, 100]\n",
    "\n",
    "plt.figure(figsize=(9, 3))\n",
    "\n",
    "plt.subplot(131)\n",
    "plt.bar(names, values)\n",
    "plt.subplot(132)\n",
    "plt.scatter(names, values)\n",
    "plt.subplot(133)\n",
    "plt.plot(names, values)\n",
    "plt.suptitle('Categorical Plotting')\n",
    "plt.show()"
   ]
  },
  {
   "cell_type": "code",
   "execution_count": 51,
   "metadata": {},
   "outputs": [
    {
     "data": {
      "image/png": "[encoded data removed]",
      "text/plain": [
       "<Figure size 432x288 with 1 Axes>"
      ]
     },
     "metadata": {},
     "output_type": "display_data"
    }
   ],
   "source": [
    "# Çizgi özellikleri belirle\n",
    "import numpy as np\n",
    "# np.linspace(0,2*np.pi,100) komutu grafik çizerken çok kullanışlı olabilir.\n",
    "# Yukarıdaki satır ile 0 ile 2*np.pi arasında 100 tane eşit mesafeli değr oluşturur.\n",
    "x1 = np.linspace(0,2*np.pi,30) # array([0.        , 1.57079633, 3.14159265, 4.71238898, 6.28318531]) bu diziyi oluşturur.\n",
    "x2 = np.linspace(0,2*np.pi,30) #\n",
    "y1 = np.sin(x); # sin değerlerini hesapladım\n",
    "y2 = np.cos(x); # cos değerlerini hesapladım\n",
    "plt.plot(x1, y1, linewidth=4.0)\n",
    "plt.plot(x2, y2, linewidth=4.0) # 4 çizgi kalınlığını gösterir\n",
    "plt.grid()\n",
    "plt.show()\n",
    "\n",
    "# Daha fazlası için\n",
    "# https://matplotlib.org/api/_as_gen/matplotlib.lines.Line2D.html #matplotlib.lines.Line2D"
   ]
  },
  {
   "cell_type": "code",
   "execution_count": 52,
   "metadata": {},
   "outputs": [
    {
     "data": {
      "text/plain": [
       "[None, None, None, None]"
      ]
     },
     "execution_count": 52,
     "metadata": {},
     "output_type": "execute_result"
    },
    {
     "data": {
      "image/png": "[encoded data removed]",
      "text/plain": [
       "<Figure size 432x288 with 1 Axes>"
      ]
     },
     "metadata": {},
     "output_type": "display_data"
    }
   ],
   "source": [
    "lines = plt.plot(x1, y1, x2, y2)\n",
    "# use keyword args\n",
    "plt.setp(lines, color='r', linewidth=2.0)\n",
    "# or MATLAB style string value pairs\n",
    "plt.setp(lines, 'color', 'r', 'linewidth', 2.0)"
   ]
  },
  {
   "cell_type": "code",
   "execution_count": 53,
   "metadata": {},
   "outputs": [
    {
     "data": {
      "image/png": "[encoded data removed]",
      "text/plain": [
       "<Figure size 432x288 with 2 Axes>"
      ]
     },
     "metadata": {},
     "output_type": "display_data"
    }
   ],
   "source": [
    "def f(t):\n",
    "    return np.exp(-t) * np.cos(2*np.pi*t)\n",
    "\n",
    "t1 = np.arange(0.0, 5.0, 0.1)\n",
    "t2 = np.arange(0.0, 5.0, 0.02)\n",
    "\n",
    "plt.figure()\n",
    "plt.subplot(211)\n",
    "plt.plot(t1, f(t1), 'bo', t2, f(t2), 'k')\n",
    "\n",
    "plt.subplot(212)\n",
    "plt.plot(t2, np.cos(2*np.pi*t2), 'r--')\n",
    "plt.show()"
   ]
  },
  {
   "cell_type": "code",
   "execution_count": 61,
   "metadata": {},
   "outputs": [
    {
     "name": "stderr",
     "output_type": "stream",
     "text": [
      "C:\\ProgramData\\Anaconda3\\lib\\site-packages\\matplotlib\\cbook\\deprecation.py:107: MatplotlibDeprecationWarning: Adding an axes using the same arguments as a previous axes currently reuses the earlier instance.  In a future version, a new instance will always be created and returned.  Meanwhile, this warning can be suppressed, and the future behavior ensured, by passing a unique label to each axes instance.\n",
      "  warnings.warn(message, mplDeprecation, stacklevel=1)\n"
     ]
    },
    {
     "data": {
      "text/plain": [
       "Text(0.5,1,'Easy as 1, 2, 3')"
      ]
     },
     "execution_count": 61,
     "metadata": {},
     "output_type": "execute_result"
    },
    {
     "data": {
      "image/png": "[encoded data removed]",
      "text/plain": [
       "<Figure size 432x288 with 2 Axes>"
      ]
     },
     "metadata": {},
     "output_type": "display_data"
    },
    {
     "data": {
      "image/png": "[encoded data removed]",
      "text/plain": [
       "<Figure size 432x288 with 1 Axes>"
      ]
     },
     "metadata": {},
     "output_type": "display_data"
    }
   ],
   "source": [
    "import matplotlib.pyplot as plt\n",
    "plt.figure(1)                # the first figure\n",
    "plt.subplot(211)             # the first subplot in the first figure\n",
    "plt.plot([1, 2, 3])\n",
    "plt.subplot(212)             # the second subplot in the first figure\n",
    "plt.plot([4, 5, 6])\n",
    "#devamı\n",
    "plt.figure(2)                # a second figure\n",
    "plt.plot([4, 5, 6])          # creates a subplot(111) by default\n",
    "plt.figure(1)                # figure 1 current; subplot(212) still current\n",
    "plt.subplot(211)             # make subplot(211) in figure1 current\n",
    "plt.title('Easy as 1, 2, 3') # subplot 211 title\n",
    "\n"
   ]
  },
  {
   "cell_type": "code",
   "execution_count": 70,
   "metadata": {},
   "outputs": [
    {
     "data": {
      "text/plain": [
       "[<matplotlib.lines.Line2D at 0x1aad5cf65f8>]"
      ]
     },
     "execution_count": 70,
     "metadata": {},
     "output_type": "execute_result"
    },
    {
     "data": {
      "text/plain": [
       "<Figure size 432x288 with 0 Axes>"
      ]
     },
     "metadata": {},
     "output_type": "display_data"
    },
    {
     "data": {
      "image/png": "[encoded data removed]",
      "text/plain": [
       "<Figure size 432x288 with 4 Axes>"
      ]
     },
     "metadata": {},
     "output_type": "display_data"
    }
   ],
   "source": [
    "fig = plt.figure()  # an empty figure with no axes\n",
    "fig.suptitle('No axes on this figure')  # Add a title so we know which it is\n",
    "fig, ax_lst = plt.subplots(2, 2)  # a figure with a 2x2 grid of Axes\n",
    "x = np.linspace(0, 2, 100)\n",
    "plt.plot(x, x, label='linear')\n"
   ]
  },
  {
   "cell_type": "code",
   "execution_count": 71,
   "metadata": {},
   "outputs": [
    {
     "data": {
      "image/png": "[encoded data removed]",
      "text/plain": [
       "<Figure size 432x288 with 1 Axes>"
      ]
     },
     "metadata": {},
     "output_type": "display_data"
    }
   ],
   "source": [
    "x = np.linspace(0, 2, 100)\n",
    "\n",
    "plt.plot(x, x, label='linear')\n",
    "plt.plot(x, x**2, label='quadratic')\n",
    "plt.plot(x, x**3, label='cubic')\n",
    "\n",
    "plt.xlabel('x label')\n",
    "plt.ylabel('y label')\n",
    "\n",
    "plt.title(\"Simple Plot\")\n",
    "\n",
    "plt.legend()\n",
    "\n",
    "plt.show()"
   ]
  },
  {
   "cell_type": "code",
   "execution_count": 76,
   "metadata": {},
   "outputs": [
    {
     "data": {
      "image/png": "[encoded data removed]",
      "text/plain": [
       "<Figure size 432x288 with 1 Axes>"
      ]
     },
     "metadata": {},
     "output_type": "display_data"
    }
   ],
   "source": [
    "import matplotlib.pyplot as plt\n",
    "import numpy as np\n",
    "x = np.arange(0, 10, 0.2)\n",
    "y = np.sin(x)\n",
    "fig, ax = plt.subplots()\n",
    "ax.plot(x, y)\n",
    "plt.show()"
   ]
  },
  {
   "cell_type": "code",
   "execution_count": 0,
   "metadata": {
    "colab": {},
    "colab_type": "code",
    "id": "0yWKjv08V5MZ"
   },
   "outputs": [],
   "source": [
    "# np.linspace(0,2*np.pi,100) komutu grafik çizerken çok kullanışlı olabilir.\n",
    "# Yukarıdaki satır ile 0 ile 2*np.pi arasında 100 tane eşit mesafeli değr oluşturur.\n",
    "x = np.linspace(0,2*np.pi,5) # array([0.        , 1.57079633, 3.14159265, 4.71238898, 6.28318531]) bu diziyi oluşturur.\n",
    "x = np.linspace(-2*np.pi,2*np.pi,30) # 5 i 100 yaptım.\n",
    "y = np.sin(x); # sin değerlerini hesapladım\n",
    "y2 = np.cos(x); # cos değerlerini hesapladım\n",
    "y3 = np.tan(x)\n",
    "plt.plot(x,y,\"r\",\n",
    "         x,y,\"or\",\n",
    "        x,y2,\"b\",\n",
    "        x,y3,\"g\") # şimdi sende eksen isimlerini ver.\n",
    "plt.fill_between(x, 0, y3, color='blue', alpha=.1) #  0-y3 arasında kalan alanı doldurur.\n",
    "plt.fill_between(x, y2, 1, color='yellow', alpha=.2) # y2 ile 1 arasındaki alanı doldurur.\n",
    "\n",
    "# plt.plot(X, F1, color=\"blue\", linewidth=2.5, linestyle=\"-\") istersen bunları dene\n",
    "\n",
    "xmin, xmax, ymin, ymax = 0, 6, -2, 2;\n",
    "plt.axis(([xmin, xmax, ymin, ymax]))\n",
    "\n",
    "# Eksenlerle oynayıp kaldırabilirsin\n",
    "ax = plt.gca()\n",
    "# üst ve sağ tarafı kaldır\n",
    "ax.spines['top'].set_color('none')\n",
    "ax.spines['right'].set_color('none')\n",
    "# alt tarafı o posizsyonuna kaydır\n",
    "ax.xaxis.set_ticks_position('bottom')\n",
    "ax.spines['bottom'].set_position(('data',0))\n",
    "# sol tarafıda sıfır pozisyonuna kaydır\n",
    "ax.yaxis.set_ticks_position('left')\n",
    "ax.spines['left'].set_position(('data',0))\n",
    "plt.xticks( [-6.28, -3.14, 3.14, 6.28],\n",
    "        [r'$-2\\pi$', r'$-\\pi$', r'$+\\pi$', r'$+2\\pi$']) # latex formatında pi yi eksene yerleştirme yapar\n"
   ]
  },
  {
   "cell_type": "code",
   "execution_count": null,
   "metadata": {},
   "outputs": [],
   "source": []
  },
  {
   "cell_type": "code",
   "execution_count": null,
   "metadata": {},
   "outputs": [],
   "source": []
  },
  {
   "cell_type": "code",
   "execution_count": 0,
   "metadata": {
    "colab": {},
    "colab_type": "code",
    "id": "UrSvKpnfV5Mc"
   },
   "outputs": [],
   "source": [
    "# etiket veya legend verme nasıl olur\n",
    "y1 = np.sin(x)\n",
    "y2 = np.cos(x)\n",
    "plt.plot(x, y1, '-b', label='sine')\n",
    "plt.plot(x, y2, '-r', label='cosine')\n",
    "plt.legend(loc='upper left')\n",
    "plt.ylim(-2, 2.0)\n",
    "plt.show()"
   ]
  },
  {
   "cell_type": "code",
   "execution_count": 0,
   "metadata": {
    "colab": {},
    "colab_type": "code",
    "id": "iVdbdzGMV5Md"
   },
   "outputs": [],
   "source": [
    "# xticks için yer ve isim belirle\n",
    "plt.xticks( np.arange(5), \n",
    "           ('Pazartesi', 'Salı', 'Çarşamba', 'Perşembe','Cuma') )\n",
    "plt.plot([5,6,3,2,1],\"ob\")"
   ]
  },
  {
   "cell_type": "code",
   "execution_count": 0,
   "metadata": {
    "colab": {
     "base_uri": "https://localhost:8080/",
     "height": 72
    },
    "colab_type": "code",
    "executionInfo": {
     "elapsed": 2391,
     "status": "ok",
     "timestamp": 1558680197350,
     "user": {
      "displayName": "Mete YILDIRIM",
      "photoUrl": "https://lh5.googleusercontent.com/-oFOFY3nQ5Nk/AAAAAAAAAAI/AAAAAAAABJQ/yRRY4WkVZX4/s64/photo.jpg",
      "userId": "16029077067357103762"
     },
     "user_tz": -180
    },
    "id": "aEDiE8clk0zp",
    "outputId": "20e786e7-ef5b-44cf-ab94-fb4468cb79e6"
   },
   "outputs": [
    {
     "name": "stdout",
     "output_type": "stream",
     "text": [
      "/bin/bash: -c: line 0: syntax error near unexpected token `https://drive.google.com/file/d/1ZAwDqxhFYAzZ86erh32EyFjzGVMrJBzA/view?usp=sharing'\n",
      "/bin/bash: -c: line 0: `[test](https://drive.google.com/file/d/1ZAwDqxhFYAzZ86erh32EyFjzGVMrJBzA/view?usp=sharing)'\n"
     ]
    }
   ],
   "source": [
    "![test](https://drive.google.com/file/d/1ZAwDqxhFYAzZ86erh32EyFjzGVMrJBzA/view?usp=sharing)"
   ]
  },
  {
   "cell_type": "code",
   "execution_count": 0,
   "metadata": {
    "colab": {
     "base_uri": "https://localhost:8080/",
     "height": 377
    },
    "colab_type": "code",
    "executionInfo": {
     "elapsed": 1527,
     "status": "error",
     "timestamp": 1558680026169,
     "user": {
      "displayName": "Mete YILDIRIM",
      "photoUrl": "https://lh5.googleusercontent.com/-oFOFY3nQ5Nk/AAAAAAAAAAI/AAAAAAAABJQ/yRRY4WkVZX4/s64/photo.jpg",
      "userId": "16029077067357103762"
     },
     "user_tz": -180
    },
    "id": "j8lgC3D-V5Mg",
    "outputId": "0a8fed41-404c-4600-d5ae-a21b04fd9b7f"
   },
   "outputs": [
    {
     "ename": "ValueError",
     "evalue": "ignored",
     "output_type": "error",
     "traceback": [
      "\u001b[0;31m---------------------------------------------------------------------------\u001b[0m",
      "\u001b[0;31mValueError\u001b[0m                                Traceback (most recent call last)",
      "\u001b[0;32m<ipython-input-37-e4eb926ff3ed>\u001b[0m in \u001b[0;36m<module>\u001b[0;34m()\u001b[0m\n\u001b[1;32m      2\u001b[0m \u001b[0;32mimport\u001b[0m \u001b[0mmatplotlib\u001b[0m\u001b[0;34m.\u001b[0m\u001b[0mimage\u001b[0m \u001b[0;32mas\u001b[0m \u001b[0mmpimg\u001b[0m \u001b[0;31m# resim kütüphanesini kullanmka için\u001b[0m\u001b[0;34m\u001b[0m\u001b[0;34m\u001b[0m\u001b[0m\n\u001b[1;32m      3\u001b[0m \u001b[0;32mimport\u001b[0m \u001b[0mnumpy\u001b[0m \u001b[0;32mas\u001b[0m \u001b[0mnp\u001b[0m\u001b[0;34m\u001b[0m\u001b[0;34m\u001b[0m\u001b[0m\n\u001b[0;32m----> 4\u001b[0;31m \u001b[0mimg\u001b[0m \u001b[0;34m=\u001b[0m \u001b[0mmpimg\u001b[0m\u001b[0;34m.\u001b[0m\u001b[0mimread\u001b[0m\u001b[0;34m(\u001b[0m\u001b[0;34m'https://docs.google.com/uc?export=download&id=1ZAwDqxhFYAzZ86erh32EyFjzGVMrJBzA'\u001b[0m\u001b[0;34m)\u001b[0m \u001b[0;31m# ('../../klasörAdı/klasörAdı/bug.png')\u001b[0m\u001b[0;34m\u001b[0m\u001b[0;34m\u001b[0m\u001b[0m\n\u001b[0m\u001b[1;32m      5\u001b[0m \u001b[0mprint\u001b[0m\u001b[0;34m(\u001b[0m\u001b[0mimg\u001b[0m\u001b[0;34m)\u001b[0m \u001b[0;31m# image değerlerini yazdır\u001b[0m\u001b[0;34m\u001b[0m\u001b[0;34m\u001b[0m\u001b[0m\n\u001b[1;32m      6\u001b[0m \u001b[0mimgplot\u001b[0m \u001b[0;34m=\u001b[0m \u001b[0mplt\u001b[0m\u001b[0;34m.\u001b[0m\u001b[0mimshow\u001b[0m\u001b[0;34m(\u001b[0m\u001b[0mimg\u001b[0m\u001b[0;34m)\u001b[0m \u001b[0;31m# resimi göster\u001b[0m\u001b[0;34m\u001b[0m\u001b[0;34m\u001b[0m\u001b[0m\n",
      "\u001b[0;32m/usr/local/lib/python3.6/dist-packages/matplotlib/image.py\u001b[0m in \u001b[0;36mimread\u001b[0;34m(fname, format)\u001b[0m\n\u001b[1;32m   1362\u001b[0m         \u001b[0;32mif\u001b[0m \u001b[0mlen\u001b[0m\u001b[0;34m(\u001b[0m\u001b[0mparsed\u001b[0m\u001b[0;34m.\u001b[0m\u001b[0mscheme\u001b[0m\u001b[0;34m)\u001b[0m \u001b[0;34m>\u001b[0m \u001b[0;36m1\u001b[0m\u001b[0;34m:\u001b[0m\u001b[0;34m\u001b[0m\u001b[0;34m\u001b[0m\u001b[0m\n\u001b[1;32m   1363\u001b[0m             \u001b[0mfd\u001b[0m \u001b[0;34m=\u001b[0m \u001b[0mBytesIO\u001b[0m\u001b[0;34m(\u001b[0m\u001b[0murllib\u001b[0m\u001b[0;34m.\u001b[0m\u001b[0mrequest\u001b[0m\u001b[0;34m.\u001b[0m\u001b[0murlopen\u001b[0m\u001b[0;34m(\u001b[0m\u001b[0mfname\u001b[0m\u001b[0;34m)\u001b[0m\u001b[0;34m.\u001b[0m\u001b[0mread\u001b[0m\u001b[0;34m(\u001b[0m\u001b[0;34m)\u001b[0m\u001b[0;34m)\u001b[0m\u001b[0;34m\u001b[0m\u001b[0;34m\u001b[0m\u001b[0m\n\u001b[0;32m-> 1364\u001b[0;31m             \u001b[0;32mreturn\u001b[0m \u001b[0mhandler\u001b[0m\u001b[0;34m(\u001b[0m\u001b[0mfd\u001b[0m\u001b[0;34m)\u001b[0m\u001b[0;34m\u001b[0m\u001b[0;34m\u001b[0m\u001b[0m\n\u001b[0m\u001b[1;32m   1365\u001b[0m         \u001b[0;32melse\u001b[0m\u001b[0;34m:\u001b[0m\u001b[0;34m\u001b[0m\u001b[0;34m\u001b[0m\u001b[0m\n\u001b[1;32m   1366\u001b[0m             \u001b[0;32mwith\u001b[0m \u001b[0mopen\u001b[0m\u001b[0;34m(\u001b[0m\u001b[0mfname\u001b[0m\u001b[0;34m,\u001b[0m \u001b[0;34m'rb'\u001b[0m\u001b[0;34m)\u001b[0m \u001b[0;32mas\u001b[0m \u001b[0mfd\u001b[0m\u001b[0;34m:\u001b[0m\u001b[0;34m\u001b[0m\u001b[0;34m\u001b[0m\u001b[0m\n",
      "\u001b[0;31mValueError\u001b[0m: invalid PNG header"
     ]
    }
   ],
   "source": [
    "import matplotlib.pyplot as plt\n",
    "import matplotlib.image as mpimg # resim kütüphanesini kullanmka için\n",
    "import numpy as np\n",
    "# Aşağıdaki satırın çalışması için klasörün girmeniz gerekir.\n",
    "img = mpimg.imread('https://docs.google.com/uc?export=download&id=1ZAwDqxhFYAzZ86erh32EyFjzGVMrJBzA') # ('../../klasörAdı/klasörAdı/bug.png')\n",
    "print(img) # image değerlerini yazdır\n",
    "imgplot = plt.imshow(img) # resimi göster"
   ]
  },
  {
   "cell_type": "code",
   "execution_count": 0,
   "metadata": {
    "colab": {},
    "colab_type": "code",
    "id": "DlbRp-JYV5Mh"
   },
   "outputs": [],
   "source": [
    "lum_img = img[:, :, 0]\n",
    "\n",
    "# This is array slicing.  You can read more in the `Numpy tutorial\n",
    "# <https://docs.scipy.org/doc/numpy/user/quickstart.html>`_.\n",
    "\n",
    "plt.imshow(lum_img)"
   ]
  },
  {
   "cell_type": "code",
   "execution_count": 0,
   "metadata": {
    "colab": {},
    "colab_type": "code",
    "id": "iOUr46RfV5Mj"
   },
   "outputs": [],
   "source": [
    "plt.imshow(lum_img, cmap=\"hot\")"
   ]
  },
  {
   "cell_type": "code",
   "execution_count": 0,
   "metadata": {
    "colab": {},
    "colab_type": "code",
    "id": "IoPiZZD1V5Mo"
   },
   "outputs": [],
   "source": [
    "imgplot = plt.imshow(lum_img)\n",
    "imgplot.set_cmap('nipy_spectral')"
   ]
  },
  {
   "cell_type": "code",
   "execution_count": 0,
   "metadata": {
    "colab": {},
    "colab_type": "code",
    "id": "ky0XdV-sV5Mp"
   },
   "outputs": [],
   "source": [
    "imgplot = plt.imshow(lum_img)\n",
    "plt.colorbar()"
   ]
  },
  {
   "cell_type": "code",
   "execution_count": 0,
   "metadata": {
    "colab": {},
    "colab_type": "code",
    "id": "e1s83XN8V5Mr"
   },
   "outputs": [],
   "source": [
    "# subplot ile bir kç şekli beraber çizmek\n",
    "%matplotlib inline\n",
    "plt.figure(figsize=(10,10 ))\n",
    "plt.subplot(321) \n",
    "plt.subplot(322)\n",
    "plt.subplot(323)\n",
    "plt.subplot(324)\n",
    "plt.subplot(325)\n",
    "plt.subplot(326)"
   ]
  },
  {
   "cell_type": "code",
   "execution_count": 0,
   "metadata": {
    "colab": {},
    "colab_type": "code",
    "id": "figIT7vGV5Ms"
   },
   "outputs": [],
   "source": []
  },
  {
   "cell_type": "code",
   "execution_count": 0,
   "metadata": {
    "colab": {},
    "colab_type": "code",
    "id": "nlr3F28LV5Mt"
   },
   "outputs": [],
   "source": []
  },
  {
   "cell_type": "code",
   "execution_count": 0,
   "metadata": {
    "colab": {},
    "colab_type": "code",
    "id": "GSYqHPlWV5Mx"
   },
   "outputs": [],
   "source": []
  },
  {
   "cell_type": "code",
   "execution_count": 0,
   "metadata": {
    "colab": {},
    "colab_type": "code",
    "id": "PYFOsfgwV5My"
   },
   "outputs": [],
   "source": []
  },
  {
   "cell_type": "code",
   "execution_count": 0,
   "metadata": {
    "colab": {},
    "colab_type": "code",
    "id": "B9lepPUpV5M0"
   },
   "outputs": [],
   "source": []
  },
  {
   "cell_type": "code",
   "execution_count": 0,
   "metadata": {
    "colab": {},
    "colab_type": "code",
    "id": "hjmCpHERV5M1"
   },
   "outputs": [],
   "source": []
  },
  {
   "cell_type": "code",
   "execution_count": 0,
   "metadata": {
    "colab": {},
    "colab_type": "code",
    "id": "x91D7jpPV5M3"
   },
   "outputs": [],
   "source": []
  },
  {
   "cell_type": "code",
   "execution_count": 0,
   "metadata": {
    "colab": {},
    "colab_type": "code",
    "id": "Nvo8lF7cV5M5"
   },
   "outputs": [],
   "source": []
  },
  {
   "cell_type": "code",
   "execution_count": 0,
   "metadata": {
    "colab": {},
    "colab_type": "code",
    "id": "2KvuL9AoV5M6"
   },
   "outputs": [],
   "source": []
  },
  {
   "cell_type": "code",
   "execution_count": 0,
   "metadata": {
    "colab": {},
    "colab_type": "code",
    "id": "1g1CX0oUV5M8"
   },
   "outputs": [],
   "source": []
  },
  {
   "cell_type": "code",
   "execution_count": 0,
   "metadata": {
    "colab": {},
    "colab_type": "code",
    "id": "-BaOSYbCV5M9"
   },
   "outputs": [],
   "source": []
  },
  {
   "cell_type": "code",
   "execution_count": 0,
   "metadata": {
    "colab": {},
    "colab_type": "code",
    "id": "0rVzqVGtV5M-"
   },
   "outputs": [],
   "source": []
  },
  {
   "cell_type": "code",
   "execution_count": 0,
   "metadata": {
    "colab": {},
    "colab_type": "code",
    "id": "McMVY1KdV5ND"
   },
   "outputs": [],
   "source": []
  },
  {
   "cell_type": "code",
   "execution_count": 0,
   "metadata": {
    "colab": {},
    "colab_type": "code",
    "id": "t1jmUECTV5NE"
   },
   "outputs": [],
   "source": []
  },
  {
   "cell_type": "code",
   "execution_count": 0,
   "metadata": {
    "colab": {},
    "colab_type": "code",
    "id": "ORjp8ZYcV5NF"
   },
   "outputs": [],
   "source": []
  },
  {
   "cell_type": "code",
   "execution_count": 0,
   "metadata": {
    "colab": {},
    "colab_type": "code",
    "id": "XElwPyEsV5NH"
   },
   "outputs": [],
   "source": []
  },
  {
   "cell_type": "markdown",
   "metadata": {
    "colab_type": "text",
    "id": "McDtF_fxV5NI"
   },
   "source": [
    "<a id='bolum5'></a>"
   ]
  },
  {
   "cell_type": "markdown",
   "metadata": {
    "colab_type": "text",
    "id": "z6QBkp18V5NI"
   },
   "source": [
    "## BÖLÜM 5: Pandas"
   ]
  },
  {
   "cell_type": "code",
   "execution_count": 0,
   "metadata": {
    "colab": {
     "base_uri": "https://localhost:8080/",
     "height": 269
    },
    "colab_type": "code",
    "executionInfo": {
     "elapsed": 1313,
     "status": "ok",
     "timestamp": 1558676841550,
     "user": {
      "displayName": "Mete YILDIRIM",
      "photoUrl": "https://lh5.googleusercontent.com/-oFOFY3nQ5Nk/AAAAAAAAAAI/AAAAAAAABJQ/yRRY4WkVZX4/s64/photo.jpg",
      "userId": "16029077067357103762"
     },
     "user_tz": -180
    },
    "id": "5KXAdRmEV5NI",
    "outputId": "4021ccd2-9730-42e2-cc22-ff99aed67f4f"
   },
   "outputs": [
    {
     "data": {
      "image/png": "[encoded data removed]",
      "text/plain": [
       "<Figure size 432x288 with 1 Axes>"
      ]
     },
     "metadata": {
      "tags": []
     },
     "output_type": "display_data"
    }
   ],
   "source": [
    "# the following line is only necessary in Python notebook:\n",
    "%matplotlib inline\n",
    "from scipy import misc\n",
    "ascent = misc.ascent()\n",
    "import matplotlib.pyplot as plt\n",
    "plt.gray()\n",
    "plt.axis(\"off\") # removes the axis and the ticks\n",
    "plt.imshow(ascent)\n",
    "plt.show()\n"
   ]
  },
  {
   "cell_type": "code",
   "execution_count": 0,
   "metadata": {
    "colab": {
     "base_uri": "https://localhost:8080/",
     "height": 321
    },
    "colab_type": "code",
    "executionInfo": {
     "elapsed": 1885,
     "status": "ok",
     "timestamp": 1558677545125,
     "user": {
      "displayName": "Mete YILDIRIM",
      "photoUrl": "https://lh5.googleusercontent.com/-oFOFY3nQ5Nk/AAAAAAAAAAI/AAAAAAAABJQ/yRRY4WkVZX4/s64/photo.jpg",
      "userId": "16029077067357103762"
     },
     "user_tz": -180
    },
    "id": "GFAsrXdzV5NJ",
    "outputId": "c4147f78-4806-4d5f-cf8e-69b21acaa75c"
   },
   "outputs": [
    {
     "name": "stdout",
     "output_type": "stream",
     "text": [
      "(768, 1024, 3)\n",
      "<built-in method max of numpy.ndarray object at 0x7fc54ebe2080>\n",
      "uint8\n"
     ]
    },
    {
     "data": {
      "image/png": "[encoded data removed]",
      "text/plain": [
       "<Figure size 432x288 with 1 Axes>"
      ]
     },
     "metadata": {
      "tags": []
     },
     "output_type": "display_data"
    }
   ],
   "source": [
    "import scipy.misc\n",
    "face = scipy.misc.face()\n",
    "print(face.shape)\n",
    "print(face.max)\n",
    "print(face.dtype)\n",
    "plt.axis(\"off\")\n",
    "plt.gray()\n",
    "plt.imshow(face)\n",
    "plt.show()"
   ]
  },
  {
   "cell_type": "code",
   "execution_count": 0,
   "metadata": {
    "colab": {},
    "colab_type": "code",
    "id": "-ficg2LpV5NK"
   },
   "outputs": [],
   "source": [
    "import matplotlib.pyplot as plt"
   ]
  },
  {
   "cell_type": "code",
   "execution_count": 0,
   "metadata": {
    "colab": {},
    "colab_type": "code",
    "id": "A7G3QYnCV5NL"
   },
   "outputs": [],
   "source": [
    "img=plt.imread('Colab1.png')\n",
    "print(img[:3])"
   ]
  },
  {
   "cell_type": "code",
   "execution_count": 0,
   "metadata": {
    "colab": {},
    "colab_type": "code",
    "id": "vKwuiu4lV5NM"
   },
   "outputs": [],
   "source": []
  },
  {
   "cell_type": "code",
   "execution_count": 0,
   "metadata": {
    "colab": {},
    "colab_type": "code",
    "id": "ewiS6cw8V5NO"
   },
   "outputs": [],
   "source": []
  },
  {
   "cell_type": "code",
   "execution_count": 0,
   "metadata": {
    "colab": {},
    "colab_type": "code",
    "id": "fIFXdBGIV5NP"
   },
   "outputs": [],
   "source": []
  },
  {
   "cell_type": "markdown",
   "metadata": {
    "colab_type": "text",
    "id": "hyWdXFW-V5NP"
   },
   "source": [
    "<a id='bolum6'></a>"
   ]
  },
  {
   "cell_type": "markdown",
   "metadata": {
    "colab_type": "text",
    "id": "-Of2bscpV5NQ"
   },
   "source": [
    "## BÖLÜM 6: Makine Öğrenimi - Machine Learning"
   ]
  },
  {
   "cell_type": "markdown",
   "metadata": {
    "colab_type": "text",
    "id": "b3cjL0t9V5NQ"
   },
   "source": [
    "<a id='bolum7'></a>"
   ]
  },
  {
   "cell_type": "markdown",
   "metadata": {
    "colab_type": "text",
    "id": "BE6zN5UBV5NR"
   },
   "source": [
    "## BÖLÜM 7: Derin Öğrenme - Deep Learning "
   ]
  },
  {
   "cell_type": "markdown",
   "metadata": {
    "colab_type": "text",
    "id": "xAqle92iV5NR"
   },
   "source": [
    "# Derin Öğrenme\n",
    "### Özet\n",
    "Yapay zeka( Artificial intelegence), makine öğrenimi(Machine Learning), yapay sinir ağları (neural netwrok), \n",
    "derin öğrenme(Deep Learning) gibi kavramları son zamanların çokca duyulan kavramlar olmuştur. \n",
    "Şüphesiz bunun sebebi bahsi geçen teknolojilerin bütün alanları etkileyecek potansiyele sahip olmasıdır.\n",
    "Buna tarımdan tıbbi bilimlere, biyolojiden uzay çalışmlarına, karar verme yetisine sahip robotlardan otonom araçlara kadar akla gelebilcek her alanı dahil etmek mümkündür. \n",
    "Bu teknolijelerin sunmuş olduğu-olacağı avantajlar değerlendirildiğnde toplumların yeni bir sanayi devrimi benzeri bir durum \n",
    "yaşayaçağını söylemek zor olmayacaktır. Bunun neticesi olarak bu teknoloji ile donatılan toplumların geleceğin gelişmiş toplumları arasında olacağını beklemek çok tabi bir sonuç olacaktır. \n",
    "Buna bir katkı olması için bu çalışmada derin öğrenmenin ne olduğu ve nasıl yapılacağı amaçlanmıştır.\n"
   ]
  },
  {
   "cell_type": "markdown",
   "metadata": {
    "colab_type": "text",
    "id": "YnTPLnj-V5NR"
   },
   "source": [
    "### Giriş \n"
   ]
  },
  {
   "cell_type": "markdown",
   "metadata": {
    "colab_type": "text",
    "id": "fkow9v7nV5NR"
   },
   "source": [
    "### Derin Öğrenme Nedir?\n",
    "\n",
    "Derin öğrenme çok büyük yapay zeka ağları ve bunların öğrenimi olarak tanımlanabilir. Yapay zeka ağları ise çok fazla nöron veya sinir hücresi şeklinde adlandırılan basit yapıların bir araya gelerek katmanlar oluşturması ve bu katmanların bazı kurallar çerçevesinde birbirine bağlanarak  elde edilmesi ile oluşan yapılardır. Bu yapının amacı giriş katmanına uygulanan bilgileri her katmanda tasarımcının belirlediği ölçülerde bulunan nöronlar ile işlemek ve en nihayetinde bir seçim veya tahmin yapmaktır. Bu seçiminin sonucunun doğruluk olasığını artırmak için sistemin bazı hesaplama katsıyılarını değiştirerek yeniden hesaplama yapması ve bunu istenen seviyeye getirene kadar tekrar etmesi ise öğreneme olarak tanımlanır.Anlaşılaçağı gibi bu yapının en küçük birimi insan beynine işlem yapma kapasitesi katdığı düşünülen ve sinir ağı veya nöron olarak adlandıralan sistemdir. Yapay sinir ağlarının ne yaptığını anlama için öncelikle bir nöronun ne yaptığının anlaşılması gerekmektedir. Yapay zekada kullanılan nöron ismini esinlendiği insan beynindeki nöron hücrelerinin kompleks işlemleriyle kıyaslanmayacak derece basit bir işlem yapmakta ve sadece kendisine verilen bilgiden bir çıkarımda bulunmakta, bir nevi hesap makinesi gibi çalışmakta ve tahmin yapmaktadır. Bunun içindirki ingilizcede nöron tahmin edici anlamında *predictor* olaraktada anılmaktadır. Bu çıkarım bazı durumlarda sadece iki durumdan birini seçmek, örneğin Doğru veya Yanlış vb., olabileceği gibi bir çok nesnenin arasından birini seçmek veya sürekliliği olan, örneğin bir ürünün fiyatını belirlemekte olabilir. Bir örnekle konuyu açıklamaya çalışalım. Bu örneğin amacı bir nöronun kendisine verilen bilgilerden ikinci el bir arabanın fiyatını tahmin etmek olsun. İlk durumda nörona sadece arabanın üretim yılı bilgisinin verildiğini ve nöronunda bu bilgi ile bir fiyat tahmini yapmaya çalıştığını kabul edelim. Şimdi bu soruyu bir insana sorduğumuzu düşünelim. Beklentimiz yapılan tahminin çokta iyi olmayacağı yönünde olacaktır. Aynı şekilde aslında nöronumuzunda iyi bir tahminde bulunamıyacağını öngörebiliriz. Tahmindeki bu sapma maliyet (cost) olarak bilinir ve amaç bu maliyeti düşürecek bir sistem gerçekleştirmektir. Bu durumda belkide yapabileçeğimiz en önemli şey nörona araba hakkında daha fazla bilgi vermek olacaktır. Örneğin arabanın mevcut kilometre bilgisinide sağlayabiliriz. Bu bilgilerin her biri arabanın bir özelliği (futures, attribute of car) olarak tanımlanır. Şimdi tahminimizin daha iyi olabileceğini ve maliyetin düşeceğini bekleyebiliriz. Sonuç olarak ne kadar çok özellik sağlarsak o kadar iyi tahminde bulunabileçeğimiz genel yargısına varabiliriz. Şimdi sistemimize bir nöron daha ekleyelim ve arabamızla ilgili iki özelliğide iki nöronada vererek ikisininde tahminde bulunmasını sağlayalım. Bu iki tahmini bir şekilde harmanlayarak tek bir tahmin üretmemiz gerekiyor. Bunun içinde bu iki nöronun tahminlerini alıp, işleyip yeni bir tahminde bulunan bir üçüncü nöron olduğunu düşünelim. Sizce sistemimiz daha iyi bir tahminde bulunabilir mi? Durumu biraz insanlaştırarak soruyu şu şekilde soralım: Üç nöronunda araba fiyatı belirleme konusunda uzman kişilerden oluştuğunu ilk derece değerlendirmeyi yapan iki nöronun yeni uzman olmuş kişiler olduğunu, ikinci derece değerlendirmeyi yapan nörunun ise çok daha tecrübeli bir uzman olduğunu ve bu tecrübeli uzmanın iki az tecrübeli uzmandan gelen değerlendirmeleri farklı ağırlıkta dikkate alarak bir karar verdiğini düşünelim. Aynı soruyu tekrar soralım. Sizce daha iyi bir tahmin yapılabicek midir? Sorunun bu şekilde sorulması durumunda daha iyi bir tahmin yapılabileçeği konusunda genel bir uzlaşının olduğu kabul edilir. Öyleyse tahminimizin doğruluğunu artırmak için ilk önce daha fazla özelliğin sağlanması sonrasında ise ilk derece değerlendirme yapan nöronların sayısınınında önemli olduğu anlaşılmaktadır. İlk derece uzmanların değerlendirmelerin daha fazla uzmalığı sahip uzmanlar tarafından değerlendirilmesi ve bunların değerlendirmesininde daha daha fazla uzman olanlar tarafından değerlendirmesi şeklinde sistemi geliştirebiliriz. Görüldüğü gibi sistem gitikçe komplex bir yapıya dönüşmekte veya diğer bir deyişle **derin** bir yapı oluşmaktadır. Bunun bir sonucu olarakta daha iyi bir tahmin yapılması beklenmektedir. Eğer bu derin yapıya bir de öğrenme yetisi kazandırılabilirse **derin öğrenme** gerçekleştirilebilecektir. Öğrenmenin gerçekleşmesi ise hatadan ders çıkarma şeklinde özetlenebilir. Yani sistemimiz tahminindeki hatayı yeniden değerlendirecek ve her kattaki uzmanların değerlendirmesine verdiği öenmi belirten ağırlıkları yeniden belirleyecek ve daha iyi bir tahminde bulunmaya çalışacaktır. Be belirlem rastgele olmayacaktır. Ayrıntısı ile daha sonra öğreneceğimiz bu yönteme **geri yayılma** **(back propagation)** denmektedir. Sistemimiz verilen bilgilerden bir tahminde bulunup ve bu tahmin gerçek değerle karşılaştırılıp sonrasında daha iyi bir tahmin için geri bidirim yapıldığına göre bir öğrenme sistemi tasarlamak için ihtiyaç olan şeyin giriş bilgisi olarak adlandırdığımız veriler ve bu verilere ait ürünün gerçek değerini gösteren bilgi tablosu olduğu açıktır.  "
   ]
  },
  {
   "cell_type": "code",
   "execution_count": 0,
   "metadata": {
    "colab": {},
    "colab_type": "code",
    "id": "swzZfJBUV5NS"
   },
   "outputs": [],
   "source": []
  },
  {
   "cell_type": "markdown",
   "metadata": {
    "colab_type": "text",
    "id": "dtUMOQ81V5NT"
   },
   "source": [
    "<a id='bolum8'></a>"
   ]
  },
  {
   "cell_type": "markdown",
   "metadata": {
    "colab_type": "text",
    "id": "DTrw6WiIV5NT"
   },
   "source": [
    "## BÖLÜM 8: Tensor Flow"
   ]
  },
  {
   "cell_type": "markdown",
   "metadata": {
    "colab_type": "text",
    "id": "4nzuRwTaV5NU"
   },
   "source": [
    "<a id='bolum9'></a>"
   ]
  },
  {
   "cell_type": "markdown",
   "metadata": {
    "colab_type": "text",
    "id": "SYOIG2q0V5NU"
   },
   "source": [
    "## BÖLÜM 9: Haberleşme uygulamaları"
   ]
  },
  {
   "cell_type": "markdown",
   "metadata": {
    "colab_type": "text",
    "id": "zyUGxtSWn9Gl"
   },
   "source": [
    "\n",
    "### Python Numpy ve Matplotlib kullanarak haberleşme uygulamalarının gerçekleştirilmesi"
   ]
  },
  {
   "cell_type": "markdown",
   "metadata": {
    "colab_type": "text",
    "id": "1O82o0NooD9G"
   },
   "source": []
  },
  {
   "cell_type": "code",
   "execution_count": 74,
   "metadata": {
    "colab": {
     "base_uri": "https://localhost:8080/",
     "height": 295
    },
    "colab_type": "code",
    "executionInfo": {
     "elapsed": 4224,
     "status": "ok",
     "timestamp": 1558705262884,
     "user": {
      "displayName": "Mete YILDIRIM",
      "photoUrl": "https://lh5.googleusercontent.com/-oFOFY3nQ5Nk/AAAAAAAAAAI/AAAAAAAABJQ/yRRY4WkVZX4/s64/photo.jpg",
      "userId": "16029077067357103762"
     },
     "user_tz": -180
    },
    "id": "7DUgtal2n1Rx",
    "outputId": "87bf5880-e92a-429a-e01f-dc741e4b5599"
   },
   "outputs": [
    {
     "data": {
      "image/png": "[encoded data removed]",
      "text/plain": [
       "<Figure size 432x288 with 1 Axes>"
      ]
     },
     "metadata": {
      "tags": []
     },
     "output_type": "display_data"
    }
   ],
   "source": [
    "import numpy as np\n",
    "import scipy as sc\n",
    "import matplotlib.pyplot as plt\n",
    "%matplotlib inline \n",
    "\n",
    "N = 1000000 # Gönderilecek bit sayısını tanımla\n",
    "\n",
    "\n",
    "np.random.seed(1) # seed ile her seferinde aynı bilgiyi üret\n",
    "\n",
    "bilgi = np.random.randn(1,N)>0.5; # print(bilgi) yazarak bilgi içeriğini görebilirsiniz.\n",
    "# Bu içerik [[False  True False False False False False False False]] şeklindedir.\n",
    "# bilgi = (np.random.rand(1,N)>0.5)*1 şeklinde yazılırsa [[1 0 1 0 1 0 1 0 1]] şeklinde gösterilebilir.\n",
    "# print(bilgi)\n",
    "# print(bilgi.shape)\n",
    "\n",
    "tx_bpsk = 2*bilgi-1; # [[-1  1 -1 -1 -1 -1 -1 -1 -1]] üretir yani 0 --> -1 1-->1 eşleşti\n",
    "#print(tx_bpsk)\n",
    "#print(tx_bpsk.shape)\n",
    "\n",
    "# varyansı 1 olan noise oluştur\n",
    "n = np.multiply(1/np.sqrt(2),[np.random.randn(N) + 1j*np.random.randn(N)])\n",
    "# n.shape  kullanarak n nin boyutlarını gör\n",
    "#print(n)\n",
    "#print(n.shape)\n",
    "\n",
    "Eb_N0_dB =np.arange(0,11,2,dtype=float )\n",
    "\n",
    "\n",
    "# Açıklama\n",
    "# randn function is standard gaussian which has mean=0 and variance= 1, so when you calculate the overall variance of n it wiil be 1.\n",
    "# and \" -SNR and why divide by 20.\" is answered by the equation \n",
    "# noise_standard_deviation=10.^(-SNR_dB/20)  because # SNR_dB=10*log(base 10)(1/noise_variance)...(1)\n",
    "# standard deviation= sqrt(variance) and variance from (1) is noise_variance = 10^(-SNRdb/10)\n",
    "# Hence sqrt is 10^(-SNRdB/20)\n",
    "\n",
    "i = 0;\n",
    "nHata = np.zeros([np.size(Eb_N0_dB)])\n",
    "\n",
    "for ii in Eb_N0_dB:\n",
    "    # print(ii)\n",
    "    bilgi_rx = np.add(tx_bpsk, np.multiply(10**(-ii/20),n))\n",
    "    bilgi_de = np.real(bilgi_rx)>0\n",
    "    nHata[i] = np.sum(np.not_equal(bilgi_de,bilgi))\n",
    "    i=i+1\n",
    "\n",
    "theoryBer = 0.5* sc.special.erfc(np.sqrt(np.power(10,(Eb_N0_dB/10))))\n",
    "\n",
    "plt.plot(Eb_N0_dB,nHata/N,'r',Eb_N0_dB, theoryBer,'g-',Eb_N0_dB,nHata/N,'bo')\n",
    "plt.axis([0, 10, 1e-6, 0.1])\n",
    "plt.xscale('linear')\n",
    "plt.yscale('log')\n",
    "plt.xlabel('EbNo(dB)')\n",
    "plt.ylabel('BER')\n",
    "plt.grid(True)\n",
    "plt.title('BPSK Modulation')\n",
    "plt.legend(['Simulation','Theory'])\n",
    "plt.show()\n"
   ]
  },
  {
   "cell_type": "code",
   "execution_count": 2,
   "metadata": {
    "colab": {},
    "colab_type": "code",
    "id": "mWpv4eVsDAov"
   },
   "outputs": [
    {
     "data": {
      "image/png": "[encoded data removed]",
      "text/plain": [
       "<Figure size 432x288 with 1 Axes>"
      ]
     },
     "metadata": {},
     "output_type": "display_data"
    }
   ],
   "source": [
    "# Alternatif BPSK smodülasyonu\n",
    "# Daha az numpy kullanıldı\n",
    "\n",
    "from numpy import sqrt\n",
    "from numpy.random import rand, randn\n",
    "import matplotlib.pyplot as plt\n",
    "  \n",
    "N = 5000000\n",
    "EbNodB_range = range(0,11)\n",
    "itr = len(EbNodB_range)\n",
    "ber = [None]*itr\n",
    "\n",
    "for n in range (0, itr): \n",
    " \n",
    "    EbNodB = EbNodB_range[n]   \n",
    "    EbNo=10.0**(EbNodB/10.0) \n",
    "    x = 2 * (rand(N) >= 0.5) - 1\n",
    "    noise_std = 1/sqrt(2*EbNo)\n",
    "    y = x + noise_std * randn(N)\n",
    "    y_d = 2 * (y >= 0) - 1\n",
    "    errors = (x != y_d).sum()\n",
    "    ber[n] = 1.0 * errors / N\n",
    "    \n",
    "    #print (\"EbNodB:\", EbNodB)\n",
    "    #print (\"Error bits:\", errors)\n",
    "    #print (\"Error probability:\", ber[n] )\n",
    "        \n",
    "plt.plot(EbNodB_range, ber, 'bo', EbNodB_range, ber, 'k')\n",
    "plt.axis([0, 10, 1e-6, 0.1])\n",
    "plt.xscale('linear')\n",
    "plt.yscale('log')\n",
    "plt.xlabel('EbNo(dB)')\n",
    "plt.ylabel('BER')\n",
    "plt.grid(True)\n",
    "plt.title('BPSK Modulation')\n",
    "plt.show()"
   ]
  },
  {
   "cell_type": "code",
   "execution_count": null,
   "metadata": {},
   "outputs": [],
   "source": []
  }
 ],
 "metadata": {
  "colab": {
   "collapsed_sections": [
    "3QCOq65L26Mg",
    "cbmKmuE426Mr",
    "vNEd2vRq26NV",
    "7V-aJMzL3IJd",
    "wuIEXoE926Oj",
    "eW3JW-Kz26O6"
   ],
   "name": "Python&Derin Öğrenme&Haberleşme.ipynb",
   "provenance": [],
   "toc_visible": true,
   "version": "0.3.2"
  },
  "kernelspec": {
   "display_name": "Python 3",
   "language": "python",
   "name": "python3"
  },
  "language_info": {
   "codemirror_mode": {
    "name": "ipython",
    "version": 3
   },
   "file_extension": ".py",
   "mimetype": "text/x-python",
   "name": "python",
   "nbconvert_exporter": "python",
   "pygments_lexer": "ipython3",
   "version": "3.6.5"
  }
 },
 "nbformat": 4,
 "nbformat_minor": 1
}
